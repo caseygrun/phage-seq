{
 "cells": [
  {
   "cell_type": "markdown",
   "id": "f95442c0-40b0-44b1-8e1c-36cc8a85841e",
   "metadata": {},
   "source": [
    "# Barplots and rank-abundance plots of all high-throughput cell-based pannings using alpaca library"
   ]
  },
  {
   "cell_type": "markdown",
   "id": "1555493c-2cfe-42ae-878b-1cb81705bc54",
   "metadata": {},
   "source": [
    "Produces grids of barplots and whittaker plots for all selections in `panning-massive`. See analogous notebook for figures in [`panning-extended`: `fig-suppl-extended`](../../../panning-extended/workflow/notebooks/fig-suppl-extended.ipynb)"
   ]
  },
  {
   "cell_type": "code",
   "execution_count": 1,
   "id": "eb93a8f7-581d-4084-93de-fa0c6baf7f3c",
   "metadata": {},
   "outputs": [],
   "source": [
    "import os\n",
    "\n",
    "# change working directory to `./panning-massive` for simplicity of access to feature tables, etc\n",
    "# make sure we don't do this twice, or we'll end up in the wrong place and be very confused\n",
    "if 'dir_changed' not in globals():\n",
    "    os.chdir('../../')\n",
    "    dir_changed = True"
   ]
  },
  {
   "cell_type": "code",
   "execution_count": 2,
   "id": "3d8334f5-b4cf-441c-9ca8-7872ec1d3dd3",
   "metadata": {},
   "outputs": [],
   "source": [
    "import pandas as pd, numpy as np\n",
    "\n",
    "import matplotlib.pyplot as plt\n",
    "import seaborn as sns\n",
    "\n",
    "import plotnine\n",
    "from plotnine import *\n",
    "\n",
    "import svg_stack"
   ]
  },
  {
   "cell_type": "code",
   "execution_count": 3,
   "id": "7a137d7f-da15-4d54-a1ae-85d9ebc08c20",
   "metadata": {},
   "outputs": [],
   "source": [
    "import nbseq\n",
    "import nbseq.viz.sample as nvs\n",
    "import nbseq.viz.tree\n",
    "import nbseq.ft as nbft\n",
    "from nbseq.utils import replace_multiple\n",
    "from nbseq.viz.utils import shorten_descriptions, extract_encoded_data_plotnine"
   ]
  },
  {
   "cell_type": "code",
   "execution_count": 4,
   "id": "3a4a950c-bfc0-4e77-9bf4-dcf8ee0034ae",
   "metadata": {},
   "outputs": [],
   "source": [
    "# setup matplotlib to render figures as SVG with editable text preserved at appropriate font size\n",
    "FONT_SIZE = 5\n",
    "\n",
    "plt.rcParams.update({\n",
    "    \"font.family\":\"sans\",\n",
    "    \"font.size\": FONT_SIZE,\n",
    "    \"svg.fonttype\": \"none\"\n",
    "})"
   ]
  },
  {
   "cell_type": "code",
   "execution_count": 5,
   "id": "862a15a0-f9ba-4f8f-8211-aaf4b350dc30",
   "metadata": {},
   "outputs": [],
   "source": [
    "%config InlineBackend.figure_formats = ['svg']"
   ]
  },
  {
   "cell_type": "code",
   "execution_count": null,
   "id": "d15a0ff5-1cd2-4100-b62b-a515fe9bb6dc",
   "metadata": {},
   "outputs": [],
   "source": []
  },
  {
   "cell_type": "code",
   "execution_count": null,
   "id": "0c4c76a7-3663-4986-adf1-6ad98e29e57e",
   "metadata": {},
   "outputs": [],
   "source": []
  },
  {
   "cell_type": "markdown",
   "id": "d2bd501c-73d9-4a16-a7c3-f23039e0bd35",
   "metadata": {},
   "source": [
    "***"
   ]
  },
  {
   "cell_type": "code",
   "execution_count": 6,
   "id": "6746db0a-4fbf-4ed1-bdca-ccff01399d49",
   "metadata": {
    "scrolled": true
   },
   "outputs": [
    {
     "name": "stdout",
     "output_type": "stream",
     "text": [
      "Loading experiment panning-massive from '/vast/palmer/home.mccleary/cng2/code/phageseq-paper/panning-massive'...\n",
      "- Reading metadata from config/metadata_full.csv ...\n",
      "- Reading phenotypes from config/phenotypes.csv ...\n",
      "- Reading Config from config/config.yaml ...\n",
      "- Warning: sqlite database '/vast/palmer/home.mccleary/cng2/code/phageseq-paper/panning-massive/intermediate/aa/asvs.db' does not exist\n",
      "- Reading feature data for table 'cdr3' from results/tables/cdr3/asvs.csv (3.8 MB)...\n",
      "- Reading cdr3 feature table from results/tables/cdr3/feature_table.biom (29.0 MB)...\n",
      "- Warning: mmseqs2 database for space 'aa' at 'intermediate/aa/features_db/features' does not exist!\n",
      "- Warning: mmseqs2 database for space 'cdr3' at 'intermediate/cdr3/features_db/features' does not exist!\n",
      "- Reading enrichment model (conditional ECDF) for space cdr3 from results/tables/cdr3/enrichment/null/ecdf.pickle (307.6 kB)...\n",
      "Finished in 0.78 seconds\n",
      "Warning: phenotype OprOP not in obs data for feature table cdr3. Adding column of NAs\n"
     ]
    }
   ],
   "source": [
    "ex = nbseq.Experiment.from_files(ft_aa=None,\n",
    "                                 tree_cdr3=None, tree_aa=None) #'intermediate/cdr3/features/all/alpaca/asvs.nwk')\n",
    "ex.obs['OprOP'] = np.nan"
   ]
  },
  {
   "cell_type": "code",
   "execution_count": 7,
   "id": "6ffdef31-4365-4d79-b394-5be21320d660",
   "metadata": {
    "scrolled": true
   },
   "outputs": [
    {
     "data": {
      "text/plain": [
       "Experiment('panning-massive') with feature spaces ['cdr3']:\n",
       "  obs: ['plate' 'well' 'depth' 'expt' 'round' 'sample' 'phage_library' 'notes'\n",
       "    'r' 'io' 'kind' 'selection' 'replicate' 'name_full' 'name' 'well_027e'\n",
       "    'sel_plate' 'sel_well' 'category' 'antigen' 'genotype_pair' 'gene_CS'\n",
       "    'gene_S' 'genotype_CS' 'background_CS' 'strain_CS' 'loc_CS' 'cond_CS'\n",
       "    'genotype_S' 'background_S' 'strain_S' 'loc_S' 'cond_S' 'cond_notes'  'bflm'\n",
       "    'swim' 'twitch' 'swarm' 'PMB-R' 'FEP-R' 'TET-R' 'CIP-R' 'CHL-R'  'GEN-R'\n",
       "    'ERY-R' 'IPM-R' 'cdiGMP' 'FliC' 'FliCa' 'FliCb' 'FlgEHKL' 'PilQ'  'PilA'\n",
       "    'PilB' 'LasA' 'LasB' 'Apr' 'XcpQ' 'ToxA' 'EstA' 'LepA' 'PlpD'  'Phz' 'Pcn'\n",
       "    'Pvd' 'Hcn' 'Rhl' 'T3SS' 'T6SS' 'Pel' 'Psl' 'CdrB' 'SCV'  'Mucoid'\n",
       "    'Alginate' 'OprM' 'OprJ' 'OprN' 'OprP' 'OpdH' 'OprD' 'OprL'  'OprF' 'OprG'\n",
       "    'OprH' 'OprB' 'MexAB' 'MexCD' 'MexEF' 'MexJK' 'MexXY'  'MexGHI' 'PirA' 'Pfu'\n",
       "    'TonB' 'FptA' 'FpvA' 'PfeA' 'CupB5' 'CupA' 'CupB'  'CupC' 'CupD' 'LPS-\n",
       "    LipidA-Palmitoyl' 'L-LipidA-Ara4N' 'LPS-CPA' 'LPS-OSA'  'LPS-galU' 'LPS-\n",
       "    rough' 'LPS' 'description' 'OprOP']\n",
       "- cdr3    : 1074 samples x 59004 features, database: None\n",
       "  var: ['CDR3' 'library' 'reads' 'nsamples']\n",
       "SQL: sqlite:////vast/palmer/home.mccleary/cng2/code/phageseq-paper/panning-massive/intermediate/aa/asvs.db"
      ]
     },
     "execution_count": 7,
     "metadata": {},
     "output_type": "execute_result"
    }
   ],
   "source": [
    "ex"
   ]
  },
  {
   "cell_type": "code",
   "execution_count": null,
   "id": "fb18f31d-83bc-43e0-be56-829c969236dd",
   "metadata": {},
   "outputs": [],
   "source": []
  },
  {
   "cell_type": "code",
   "execution_count": 8,
   "id": "ce0989c1-c58c-4fc0-8700-c12adc916245",
   "metadata": {},
   "outputs": [],
   "source": [
    "import re\n",
    "replacements = {\n",
    "    re.compile(r\"(\\w+)\\#[^\\s:]+\"): r\"\\1\",\n",
    "    \"ZTP riboswitch\":\"...\",\n",
    "    \"PAO397\":\"PAO1\",\n",
    "}\n",
    "    \n",
    "shorten_descriptions(ex.obs, replacements=replacements);\n",
    "shorten_descriptions(ex.fts.cdr3.obs, replacements=replacements);\n",
    "ex.fts.cdr3.obs['desc_short_ml'] = ex.fts.cdr3.obs['desc_short'].str.replace(\"/\",\"\\n\")\n",
    "\n",
    "for space in ['cdr3','aa']:\n",
    "    if space in ex.fts:\n",
    "        \n",
    "        for field in ['genotype_CS','genotype_S']: \n",
    "            ex.fts[space].obs[field] = ex.fts[space].obs[field].fillna('')\n",
    "            shorten_descriptions(ex.fts[space].obs, replacements, new_column=field, old_column=field)\n",
    "\n",
    "        obs = ex.fts[space].obs\n",
    "        obs.loc[obs['name'] == '027i.1.C8.1','background_S'] = 'PA103'\n",
    "        obs.loc[obs['name'] == '027i.1.H3.1','background_S'] = 'PA14'\n",
    "        obs.loc[obs['name'] == '027i.1.H3.1','description'] = obs.loc[obs['name'] == '027i.1.H3.1','description'].str.replace('?', 'PA14 WT')\n",
    "        obs.loc[obs['name'] == '027i.1.C8.1','description'] = obs.loc[obs['name'] == '027i.1.C8.1','description'].str.replace('?','PA103 ∆fimX yfiR#PA1121::Tn.2(Tc)')\n",
    "\n",
    "    _clinical_isolates = (obs['expt'] == '027i') & obs['background_S'].isna()\n",
    "    obs.loc[_clinical_isolates,'antigen'] = 'clinical isolate'\n",
    "    obs.loc[_clinical_isolates,'background_S'] = 'clinical isolate ' + obs.loc[_clinical_isolates,'strain_S']"
   ]
  },
  {
   "cell_type": "code",
   "execution_count": 9,
   "id": "b2f41dfd-501b-49d8-8fc8-1e01e8d61fbe",
   "metadata": {},
   "outputs": [],
   "source": [
    "def shorten(text):\n",
    "    from nbseq.utils import replace_multiple\n",
    "    # from nbseq.viz.utils import \n",
    "    return replace_multiple(pd.Series([text]), replacements)[0]"
   ]
  },
  {
   "cell_type": "code",
   "execution_count": 10,
   "id": "d30470b5-4039-4137-a52b-2822ccd453f7",
   "metadata": {},
   "outputs": [],
   "source": [
    "def arrayplot(files, path, ncol=6, nrow=8):\n",
    "    import svg_stack as ss\n",
    "    k = 0\n",
    "    n = 0\n",
    "    while k < len(files):\n",
    "        n += 1       \n",
    "        page = ss.VBoxLayout()\n",
    "        for j in range(nrow):\n",
    "            row = ss.HBoxLayout()\n",
    "            for i in range(ncol):\n",
    "                row.addSVG(files[k],alignment=ss.AlignTop|ss.AlignLeft)\n",
    "                k += 1\n",
    "                if k >= len(files):\n",
    "                    break\n",
    "                    \n",
    "            page.addLayout(row)\n",
    "            if k >= len(files):\n",
    "                break\n",
    "        \n",
    "        doc = ss.Document()\n",
    "        doc.setLayout(page)\n",
    "        fn = path.format(page=n)\n",
    "        doc.save(fn)\n",
    "        print(fn)"
   ]
  },
  {
   "cell_type": "markdown",
   "id": "db22734e-02d9-4608-8237-89f8352e5ceb",
   "metadata": {},
   "source": [
    "## Barplots of high-throughput cell-based pannings using alpaca library (`fig-suppl-arrayed-barplots`)"
   ]
  },
  {
   "cell_type": "code",
   "execution_count": 11,
   "id": "c6ca9db3-5cab-4da4-b957-845e1f4a35dd",
   "metadata": {},
   "outputs": [],
   "source": [
    "def top_asv_barplot(ex, query, space='cdr3', n=30, select_from_round=4, phylo=False, **kwargs):\n",
    "    samples = ex.query_ids(f\"({query}) & kind =='+' & io == 'i'\", space=space)\n",
    "    if select_from_round is not None:\n",
    "        top_from_samples = ex.query_ids(f\"({query}) & r == {select_from_round} & kind =='+' & io == 'i'\", space=space)\n",
    "    else:\n",
    "        top_from_samples = None\n",
    "    \n",
    "    \n",
    "    ft_top = nbseq.viz.sample.collapse_top_asvs(ex.fts[space], samples, top_from_samples = top_from_samples, n=n)\n",
    "    df = nbseq.ft.fortify(ft_top, obs=True, relative=True)\n",
    "    \n",
    "    if phylo:\n",
    "        return nbseq.viz.sample.top_asv_plot_phylo(df, ex.tree[space], **kwargs)\n",
    "    else: \n",
    "        return nbseq.viz.sample.top_asv_barplot(df, **kwargs)"
   ]
  },
  {
   "cell_type": "code",
   "execution_count": 12,
   "id": "5387d00e-7d67-4381-a61e-9dedc65f9b7f",
   "metadata": {},
   "outputs": [],
   "source": [
    "def _plot_expt(ex, expt, library, plot, predicates='', \n",
    "               plot_path=\"results/plots/barplots/arrayed\", \n",
    "               data_path=\"results/tables/figures/barplots/arrayed\",\n",
    "               title_pattern=\"{background_S} {antigen} - {method}\",\n",
    "               file_pattern=\"{background_S}_{antigen}_{method}.svg\",\n",
    "               show=True, sort=True,\n",
    "               last_round=5,\n",
    "               space='cdr3', **kwargs):\n",
    "    query = f\"expt == '{expt}' & phage_library == '{library}' & replicate == 1 & io == 'i' & kind == '+'\"\n",
    "    if predicates != '':\n",
    "        query += f\" & ({predicates})\"\n",
    "    ft = ex.query(query, space=space)\n",
    "    expt_samples = ft.obs['sample'].unique()\n",
    "    if sort:\n",
    "        from natsort import natsorted\n",
    "        expt_samples = natsorted(expt_samples)\n",
    "        \n",
    "    print(expt_samples)\n",
    "    \n",
    "    plot_paths = []\n",
    "    data_paths = []\n",
    "    for sample in expt_samples:\n",
    "        \n",
    "        # print(nbft.query(ft, f\"sample == '{sample}'\", axis='sample').obs.r)\n",
    "        # print(nbft.query_ids(ft, f\"sample == '{sample}' & r == '5'\"))\n",
    "        \n",
    "        top_from_samples = nbft.query_ids(ft, f\"sample == '{sample}' & r == {last_round}\")\n",
    "\n",
    "        # print(\"top_from_samples:\")\n",
    "        # print(top_from_samples)\n",
    "        \n",
    "        ft_expt = nvs.collapse_top_asvs(\n",
    "            ft, \n",
    "            samples = nbft.query_ids(ft, f\"sample == '{sample}'\"),\n",
    "            top_from_samples = top_from_samples,\n",
    "            n = 40,\n",
    "            relative=True)\n",
    "        \n",
    "        first_row = ft_expt.obs.iloc[0,:]\n",
    "        # print(\"{sample} - {background_CS} {genotype_CS} vs. {background_S} {genotype_S}\".format(**first_row))\n",
    "        # print(ft_expt)\n",
    "        \n",
    "        _plot = plot(\n",
    "            nbft.fortify(ft_expt, obs=True),\n",
    "            title=shorten(title_pattern.format(**first_row)), **kwargs) \n",
    "\n",
    "        \n",
    "        fn = file_pattern.format(**first_row).replace(os.path.sep,\"_\")\n",
    "        plotpath = plot_path + os.path.sep + fn + '.svg'\n",
    "        datapath = data_path + os.path.sep + fn + '.csv'\n",
    "        _plot.save(plotpath)\n",
    "\n",
    "        df = extract_encoded_data_plotnine(_plot)\n",
    "        df.to_csv(datapath, index=False)\n",
    "        \n",
    "        if show:\n",
    "            display(_plot)\n",
    "        plot_paths.append(plotpath)\n",
    "        data_paths.append(datapath)\n",
    "        \n",
    "    return plot_paths, data_paths\n",
    "\n",
    "def plot_expt_bar(ex, expt, library, predicates='', space='cdr3', layers = [], **kwargs):\n",
    "    # expt_samples = ex.fts[space].obs.query(f\"expt == '{expt}' & phage_library == '{library}'\")['sample'].unique()\n",
    "    \n",
    "    def do_plot_bar(df, title=None, **kwargs):\n",
    "        gg = (nvs.top_asv_barplot(df, feature_name=space.upper(), **kwargs) \n",
    "              + ggtitle(title) \n",
    "              + theme(figure_size=(2,2)))\n",
    "        gg += layers\n",
    "        # gg.draw()\n",
    "        return gg\n",
    "        \n",
    "    return _plot_expt(ex, expt, library=library, predicates=predicates, space=space, plot=do_plot_bar, **kwargs)\n"
   ]
  },
  {
   "cell_type": "code",
   "execution_count": 13,
   "id": "6fce9b7d-3a9c-451b-a806-8a542b024543",
   "metadata": {},
   "outputs": [],
   "source": [
    "layers = [\n",
    "    scale_x_continuous(expand=(0,0)),\n",
    "    scale_y_continuous(expand=(0,0)),\n",
    "    theme_bw(), \n",
    "    theme(\n",
    "        axis_title_x=element_blank(),\n",
    "        axis_title_y=element_blank(),\n",
    "        figure_size=(2,1.5),\n",
    "        legend_text=element_text(margin=dict(l=0.5)),\n",
    "        legend_key_height=3,\n",
    "        legend_key_width=3,\n",
    "        legend_entry_spacing_y=0,\n",
    "        # legend_entry_spacing_x=0.5,\n",
    "        text=element_text(family='sans', size=5)\n",
    "    )\n",
    "]"
   ]
  },
  {
   "cell_type": "code",
   "execution_count": 14,
   "id": "49b55bf5-ed49-4c04-b429-fe95300a7a7e",
   "metadata": {},
   "outputs": [],
   "source": [
    "%%bash\n",
    "out=\"results/plots/barplots/arrayed\"\n",
    "rm -rf \"$out\"\n",
    "mkdir -p \"$out\"\n",
    "\n",
    "out=\"results/tables/figures/barplots/arrayed\"\n",
    "rm -rf \"$out\"\n",
    "mkdir -p \"$out\""
   ]
  },
  {
   "cell_type": "code",
   "execution_count": 15,
   "id": "46827611-0c70-480e-9578-8fb858ed2e61",
   "metadata": {},
   "outputs": [
    {
     "name": "stdout",
     "output_type": "stream",
     "text": [
      "['1.A1', '1.A2', '1.A3', '1.A4', '1.A5', '1.A6', '1.A7', '1.A8', '1.A9', '1.A10', '1.A11', '1.A12', '1.B1', '1.B2', '1.B3', '1.B4', '1.B5', '1.B6', '1.B7', '1.B8', '1.B9', '1.B10', '1.B11', '1.B12', '1.C1', '1.C2', '1.C3', '1.C4', '1.C5', '1.C6', '1.C7', '1.C8', '1.C9', '1.C10', '1.C11', '1.C12', '1.D1', '1.D2', '1.D3', '1.D4', '1.D5', '1.D6', '1.D7', '1.D8', '1.D9', '1.D10', '1.D11', '1.D12', '1.E1', '1.E2', '1.E3', '1.E4', '1.E5', '1.E6', '1.E7', '1.E8', '1.E9', '1.E10', '1.E11', '1.E12', '1.F1', '1.F2', '1.F3', '1.F4', '1.F5', '1.F6', '1.F7', '1.F8', '1.F9', '1.F10', '1.F11', '1.F12', '1.G1', '1.G2', '1.G3', '1.G4', '1.G5', '1.G6', '1.G7', '1.G8', '1.G9', '1.G10', '1.G11', '1.G12', '1.H1', '1.H2', '1.H3', '1.H4', '1.H5', '1.H6', '1.H7', '1.H8', '1.H9', '1.H10', '1.H11', '1.H12', '2.A1', '2.A2', '2.A3', '2.A4', '2.A5', '2.A6', '2.A7', '2.A8', '2.A9', '2.A10', '2.A11', '2.A12', '2.B1', '2.B2', '2.B3', '2.B4', '2.B5', '2.B6', '2.B7', '2.B8', '2.B9', '2.B10', '2.B11', '2.B12', '2.C1', '2.C2', '2.C3', '2.C4', '2.C5', '2.C6', '2.C7', '2.C8', '2.C9', '2.C10', '2.C11', '2.C12', '2.D1', '2.D2', '2.D3', '2.D4', '2.D5', '2.D6', '2.D7', '2.D8', '2.D9', '2.D10', '2.D11', '2.D12', '2.E1', '2.E2', '2.E3', '2.E4', '2.E5', '2.E6', '2.E7', '2.E8', '2.E9', '2.E10', '2.E11', '2.E12', '2.F1', '2.F2', '2.F3', '2.F4', '2.F5', '2.F6', '2.F7', '2.F8', '2.F9', '2.F10', '2.F11', '2.F12', '2.G1', '2.G2', '2.G3', '2.G4', '2.G5', '2.G6', '2.G7', '2.G8', '2.G9', '2.G10', '2.G11', '2.G12', '2.H1', '2.H2', '2.H3', '2.H4', '2.H5', '2.H6', '2.H7', '2.H8', '2.H9', '2.H10', '2.H11', '2.H12']\n"
     ]
    }
   ],
   "source": [
    "import warnings\n",
    "with warnings.catch_warnings():\n",
    "    warnings.simplefilter(\"ignore\")\n",
    "    \n",
    "    plot_paths, data_paths = plot_expt_bar(\n",
    "        ex,'027i','alpaca', \n",
    "        layers=layers, \n",
    "        # show=True, \n",
    "        show=False, \n",
    "        plot_path=\"results/plots/barplots/arrayed\",\n",
    "        data_path=\"results/tables/figures/barplots/arrayed\",\n",
    "        title_pattern=\"{sample}: {background_CS} {genotype_CS} vs.\\n{background_S} {genotype_S} ({antigen})\",\n",
    "        file_pattern=\"{sample}_{antigen}\",\n",
    "    )\n",
    "\n"
   ]
  },
  {
   "cell_type": "code",
   "execution_count": 16,
   "id": "adfef7b3-2f38-4d11-b830-ff2e8b361fc9",
   "metadata": {},
   "outputs": [
    {
     "name": "stdout",
     "output_type": "stream",
     "text": [
      "results/plots/barplots/arrayed_1.svg\n",
      "results/plots/barplots/arrayed_2.svg\n",
      "results/plots/barplots/arrayed_3.svg\n",
      "results/plots/barplots/arrayed_4.svg\n"
     ]
    }
   ],
   "source": [
    "arrayplot(plot_paths, 'results/plots/barplots/arrayed_{page}.svg')"
   ]
  },
  {
   "cell_type": "code",
   "execution_count": 17,
   "id": "bc3902fd-f1f4-4073-a2a7-53988bc75286",
   "metadata": {},
   "outputs": [],
   "source": [
    "def compile_data_frames(paths, output):\n",
    "    dfs = []\n",
    "    for path in paths:\n",
    "        dfs.append(pd.read_csv(path))\n",
    "    pd.concat(dfs).to_csv(output, index=False)"
   ]
  },
  {
   "cell_type": "code",
   "execution_count": 18,
   "id": "a097f1d8-f7ea-481e-9829-355b2e68ddbc",
   "metadata": {},
   "outputs": [],
   "source": [
    "compile_data_frames(data_paths, 'results/tables/figures/barplots/arrayed.csv')"
   ]
  },
  {
   "cell_type": "code",
   "execution_count": null,
   "id": "33fc87e0-32ee-48c1-b564-d8004c495b88",
   "metadata": {},
   "outputs": [],
   "source": []
  },
  {
   "cell_type": "markdown",
   "id": "c2c3b568-1f21-4a4b-b155-357335539a2f",
   "metadata": {},
   "source": [
    "## Diversity of high-throughput cell-based pannings using alpaca library (`fig-suppl-arrayed-rank-abundance`)"
   ]
  },
  {
   "cell_type": "code",
   "execution_count": 19,
   "id": "c1a61ce9-e8f2-4503-bd9c-a668559e8d62",
   "metadata": {},
   "outputs": [],
   "source": [
    "def whittaker(ex, expt, library, space='cdr3', predicates='', **kwargs):\n",
    "    query = f\"expt == '{expt}' & phage_library == '{library}' & replicate == 1 & io == 'i' & kind == '+'\"\n",
    "    if predicates != '':\n",
    "        query += f\" & ({predicates})\"\n",
    "    ft = ex.query(query, space=space)\n",
    "\n",
    "    return nvs.rank_abundance_plot(ft, **kwargs)"
   ]
  },
  {
   "cell_type": "code",
   "execution_count": 20,
   "id": "70ef2147-978b-4671-88a2-bcf630940c56",
   "metadata": {},
   "outputs": [],
   "source": [
    "def plot_expt_whittaker(\n",
    "    ex, expt, library, predicates='', space='cdr3', layers = [],\n",
    "    path='.',\n",
    "    plot_path=\"results/plots/barplots/arrayed\", \n",
    "    data_path=\"results/tables/figures/barplots/arrayed\",\n",
    "    title_pattern=\"{background_S} {antigen} - {method}\",\n",
    "    file_pattern=\"{background_S}_{antigen}_{method}\",\n",
    "    show=True, sort=True,\n",
    "    last_round=5, **kwargs):\n",
    "    \n",
    "    query = f\"expt == '{expt}' & phage_library == '{library}' & replicate == 1 & io == 'i' & kind == '+'\"\n",
    "    if predicates != '':\n",
    "        query += f\" & ({predicates})\"\n",
    "    ft = ex.query(query, space=space)\n",
    "    expt_samples = ft.obs['sample'].unique()\n",
    "    if sort:\n",
    "        from natsort import natsorted\n",
    "        expt_samples = natsorted(expt_samples)\n",
    "        \n",
    "    print(expt_samples)\n",
    "    \n",
    "    plot_paths = []\n",
    "    data_paths = []\n",
    "    for sample in expt_samples:\n",
    "        first_row = ex.obs.query(f\"({query}) & (sample == '{sample}')\").iloc[0,:]\n",
    "            \n",
    "        _plot = (whittaker(\n",
    "            ex, expt, library, space=space, predicates = f\"(sample == '{sample}')\", \n",
    "            n_sample=dict(n=100, replace=True),\n",
    "            line=dict(size=1),\n",
    "            color=\"r\", group=\"r\") \n",
    "                 + ggtitle(shorten(title_pattern.format(**first_row))) \n",
    "        + layers)\n",
    "\n",
    "\n",
    "        import os\n",
    "        fn = file_pattern.format(**first_row).replace(os.path.sep,\"_\")\n",
    "        \n",
    "        plotpath = plot_path + os.path.sep + fn + '.svg'\n",
    "        _plot.save(plotpath)\n",
    "        \n",
    "        datapath = data_path + os.path.sep + fn + '.csv'\n",
    "        df = extract_encoded_data_plotnine(_plot)\n",
    "        df.to_csv(datapath, index=False)\n",
    "        \n",
    "        plot_paths.append(plotpath)\n",
    "        data_paths.append(datapath)\n",
    "        \n",
    "        if show:\n",
    "            display(_plot)\n",
    "        \n",
    "    return plot_paths, data_paths"
   ]
  },
  {
   "cell_type": "code",
   "execution_count": 21,
   "id": "d8ef11db-5661-4554-9688-4cc439713305",
   "metadata": {},
   "outputs": [],
   "source": [
    "from matplotlib.ticker import EngFormatter\n",
    "fmt = EngFormatter(sep=\"\")\n",
    "\n",
    "layers = [\n",
    "    scale_color_cmap(\"viridis\"),\n",
    "    scale_x_continuous(name=\"feature rank\", labels=lambda x: list(map(fmt.format_eng, x))),\n",
    "    # facet_wrap(\"desc_ag_short\", nrow=1),\n",
    "    theme_bw(), \n",
    "    theme(\n",
    "        figure_size=(1.5,1.5),\n",
    "        legend_position='none',\n",
    "        legend_key_height=4,\n",
    "        legend_key_width=4,\n",
    "        text=element_text(family='sans', size=5)\n",
    "    ),\n",
    "    guides(color=guide_legend(title=\"round\"))\n",
    "]"
   ]
  },
  {
   "cell_type": "code",
   "execution_count": 22,
   "id": "afe29d44-ec3c-47be-9076-fc01b982096d",
   "metadata": {},
   "outputs": [],
   "source": [
    "%%bash\n",
    "out=\"results/plots/rank_abundance/arrayed\"\n",
    "rm -rf \"$out\"\n",
    "mkdir -p \"$out\"\n",
    "\n",
    "out=\"results/tables/figures/rank_abundance/arrayed\"\n",
    "rm -rf \"$out\"\n",
    "mkdir -p \"$out\""
   ]
  },
  {
   "cell_type": "code",
   "execution_count": 23,
   "id": "70b6e37c-6175-473f-8dfc-fc223239a8c1",
   "metadata": {
    "scrolled": true
   },
   "outputs": [
    {
     "name": "stdout",
     "output_type": "stream",
     "text": [
      "['1.A1', '1.A2', '1.A3', '1.A4', '1.A5', '1.A6', '1.A7', '1.A8', '1.A9', '1.A10', '1.A11', '1.A12', '1.B1', '1.B2', '1.B3', '1.B4', '1.B5', '1.B6', '1.B7', '1.B8', '1.B9', '1.B10', '1.B11', '1.B12', '1.C1', '1.C2', '1.C3', '1.C4', '1.C5', '1.C6', '1.C7', '1.C8', '1.C9', '1.C10', '1.C11', '1.C12', '1.D1', '1.D2', '1.D3', '1.D4', '1.D5', '1.D6', '1.D7', '1.D8', '1.D9', '1.D10', '1.D11', '1.D12', '1.E1', '1.E2', '1.E3', '1.E4', '1.E5', '1.E6', '1.E7', '1.E8', '1.E9', '1.E10', '1.E11', '1.E12', '1.F1', '1.F2', '1.F3', '1.F4', '1.F5', '1.F6', '1.F7', '1.F8', '1.F9', '1.F10', '1.F11', '1.F12', '1.G1', '1.G2', '1.G3', '1.G4', '1.G5', '1.G6', '1.G7', '1.G8', '1.G9', '1.G10', '1.G11', '1.G12', '1.H1', '1.H2', '1.H3', '1.H4', '1.H5', '1.H6', '1.H7', '1.H8', '1.H9', '1.H10', '1.H11', '1.H12', '2.A1', '2.A2', '2.A3', '2.A4', '2.A5', '2.A6', '2.A7', '2.A8', '2.A9', '2.A10', '2.A11', '2.A12', '2.B1', '2.B2', '2.B3', '2.B4', '2.B5', '2.B6', '2.B7', '2.B8', '2.B9', '2.B10', '2.B11', '2.B12', '2.C1', '2.C2', '2.C3', '2.C4', '2.C5', '2.C6', '2.C7', '2.C8', '2.C9', '2.C10', '2.C11', '2.C12', '2.D1', '2.D2', '2.D3', '2.D4', '2.D5', '2.D6', '2.D7', '2.D8', '2.D9', '2.D10', '2.D11', '2.D12', '2.E1', '2.E2', '2.E3', '2.E4', '2.E5', '2.E6', '2.E7', '2.E8', '2.E9', '2.E10', '2.E11', '2.E12', '2.F1', '2.F2', '2.F3', '2.F4', '2.F5', '2.F6', '2.F7', '2.F8', '2.F9', '2.F10', '2.F11', '2.F12', '2.G1', '2.G2', '2.G3', '2.G4', '2.G5', '2.G6', '2.G7', '2.G8', '2.G9', '2.G10', '2.G11', '2.G12', '2.H1', '2.H2', '2.H3', '2.H4', '2.H5', '2.H6', '2.H7', '2.H8', '2.H9', '2.H10', '2.H11', '2.H12']\n"
     ]
    }
   ],
   "source": [
    "import warnings\n",
    "with warnings.catch_warnings():\n",
    "    warnings.simplefilter(\"ignore\")\n",
    "    \n",
    "    plot_paths, data_paths = plot_expt_whittaker(ex,'027i','alpaca', layers=layers, \n",
    "                      show=False, \n",
    "                      plot_path=\"results/plots/rank_abundance/arrayed\",\n",
    "                      data_path=\"results/tables/figures/rank_abundance/arrayed\",\n",
    "                      title_pattern=\"{sample}: {background_CS} {genotype_CS} vs.\\n{background_S} {genotype_S} ({antigen})\",\n",
    "                      file_pattern=\"{sample}_{antigen}\",\n",
    "                     )"
   ]
  },
  {
   "cell_type": "code",
   "execution_count": 24,
   "id": "e3313225-a610-4f7a-b496-57559568739d",
   "metadata": {
    "scrolled": true
   },
   "outputs": [
    {
     "name": "stdout",
     "output_type": "stream",
     "text": [
      "results/plots/rank_abundance/arrayed_1.svg\n",
      "results/plots/rank_abundance/arrayed_2.svg\n",
      "results/plots/rank_abundance/arrayed_3.svg\n",
      "results/plots/rank_abundance/arrayed_4.svg\n"
     ]
    }
   ],
   "source": [
    "arrayplot(plot_paths, 'results/plots/rank_abundance/arrayed_{page}.svg')"
   ]
  },
  {
   "cell_type": "code",
   "execution_count": 25,
   "id": "5b163f9c-a6f8-4256-9a24-98075fb2854d",
   "metadata": {},
   "outputs": [],
   "source": [
    "compile_data_frames(data_paths, 'results/tables/figures/rank_abundance/arrayed.csv')"
   ]
  },
  {
   "cell_type": "code",
   "execution_count": null,
   "id": "11f2189a-cf96-46a2-91bf-ae799753556e",
   "metadata": {},
   "outputs": [],
   "source": []
  }
 ],
 "metadata": {
  "kernelspec": {
   "display_name": "Python [conda env:nbseq_full_dev_v1]",
   "language": "python",
   "name": "conda-env-nbseq_full_dev_v1-py"
  },
  "language_info": {
   "codemirror_mode": {
    "name": "ipython",
    "version": 3
   },
   "file_extension": ".py",
   "mimetype": "text/x-python",
   "name": "python",
   "nbconvert_exporter": "python",
   "pygments_lexer": "ipython3",
   "version": "3.10.14"
  }
 },
 "nbformat": 4,
 "nbformat_minor": 5
}
