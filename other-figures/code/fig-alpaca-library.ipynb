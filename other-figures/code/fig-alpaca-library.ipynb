{
 "cells": [
  {
   "cell_type": "markdown",
   "id": "311bf020-c6c9-4114-91f4-4bc9b3256e0e",
   "metadata": {},
   "source": [
    "# Developing a VHH phage display library against _P. aeruginosa_ (`fig-alpaca-library`)"
   ]
  },
  {
   "cell_type": "code",
   "execution_count": 1,
   "id": "4418bf42-b5c4-4fb1-b66e-22f977bb1b4b",
   "metadata": {},
   "outputs": [],
   "source": [
    "import pandas as pd\n",
    "import altair as alt\n",
    "from natsort import natsorted"
   ]
  },
  {
   "cell_type": "markdown",
   "id": "842d3fd7-540a-4858-87f4-b46e454021fd",
   "metadata": {},
   "source": [
    "## Immunization titers"
   ]
  },
  {
   "cell_type": "code",
   "execution_count": 2,
   "id": "19906915-7ce1-46ee-b4d5-c3c73760d3bf",
   "metadata": {},
   "outputs": [],
   "source": [
    "FONT_SIZE=5"
   ]
  },
  {
   "cell_type": "code",
   "execution_count": 3,
   "id": "4aedcbb4-7373-462c-8384-3b12f32cc81f",
   "metadata": {},
   "outputs": [],
   "source": [
    "titers = pd.read_csv(\"../data/fig-alpaca-library/2013-02-alpaca-serum-titers.csv\")"
   ]
  },
  {
   "cell_type": "code",
   "execution_count": 4,
   "id": "32e28e31-c0fa-4424-9dac-1aa2e8b40633",
   "metadata": {},
   "outputs": [],
   "source": [
    "titers = titers.melt(id_vars=\"dilution\", var_name=\"date\",value_name=\"A450\")"
   ]
  },
  {
   "cell_type": "code",
   "execution_count": 5,
   "id": "c0170642-8c6b-4657-a0b9-d98978760a1e",
   "metadata": {},
   "outputs": [],
   "source": [
    "date_key = {\"12/1/12\":\"pre-immune\", \"1/14/13\":\"post-immunization #2\", \"2/5/13\":\"post-immunization #3\"}\n",
    "titers[\"bleed\"] = titers[\"date\"].map(date_key)"
   ]
  },
  {
   "cell_type": "code",
   "execution_count": 6,
   "id": "20fcd042-afbf-4614-b205-d914f9698ab4",
   "metadata": {},
   "outputs": [],
   "source": [
    "dilution_order = natsorted(titers[\"dilution\"].unique())"
   ]
  },
  {
   "cell_type": "code",
   "execution_count": 7,
   "id": "4cd6baba-ffd3-4d9a-ab6f-d7e084b0d8ea",
   "metadata": {},
   "outputs": [
    {
     "data": {
      "text/html": [
       "\n",
       "<style>\n",
       "  #altair-viz-a7a4429aa15a4587bd06ec029f923d20.vega-embed {\n",
       "    width: 100%;\n",
       "    display: flex;\n",
       "  }\n",
       "\n",
       "  #altair-viz-a7a4429aa15a4587bd06ec029f923d20.vega-embed details,\n",
       "  #altair-viz-a7a4429aa15a4587bd06ec029f923d20.vega-embed details summary {\n",
       "    position: relative;\n",
       "  }\n",
       "</style>\n",
       "<div id=\"altair-viz-a7a4429aa15a4587bd06ec029f923d20\"></div>\n",
       "<script type=\"text/javascript\">\n",
       "  var VEGA_DEBUG = (typeof VEGA_DEBUG == \"undefined\") ? {} : VEGA_DEBUG;\n",
       "  (function(spec, embedOpt){\n",
       "    let outputDiv = document.currentScript.previousElementSibling;\n",
       "    if (outputDiv.id !== \"altair-viz-a7a4429aa15a4587bd06ec029f923d20\") {\n",
       "      outputDiv = document.getElementById(\"altair-viz-a7a4429aa15a4587bd06ec029f923d20\");\n",
       "    }\n",
       "    const paths = {\n",
       "      \"vega\": \"https://cdn.jsdelivr.net/npm/vega@5?noext\",\n",
       "      \"vega-lib\": \"https://cdn.jsdelivr.net/npm/vega-lib?noext\",\n",
       "      \"vega-lite\": \"https://cdn.jsdelivr.net/npm/vega-lite@5.8.0?noext\",\n",
       "      \"vega-embed\": \"https://cdn.jsdelivr.net/npm/vega-embed@6?noext\",\n",
       "    };\n",
       "\n",
       "    function maybeLoadScript(lib, version) {\n",
       "      var key = `${lib.replace(\"-\", \"\")}_version`;\n",
       "      return (VEGA_DEBUG[key] == version) ?\n",
       "        Promise.resolve(paths[lib]) :\n",
       "        new Promise(function(resolve, reject) {\n",
       "          var s = document.createElement('script');\n",
       "          document.getElementsByTagName(\"head\")[0].appendChild(s);\n",
       "          s.async = true;\n",
       "          s.onload = () => {\n",
       "            VEGA_DEBUG[key] = version;\n",
       "            return resolve(paths[lib]);\n",
       "          };\n",
       "          s.onerror = () => reject(`Error loading script: ${paths[lib]}`);\n",
       "          s.src = paths[lib];\n",
       "        });\n",
       "    }\n",
       "\n",
       "    function showError(err) {\n",
       "      outputDiv.innerHTML = `<div class=\"error\" style=\"color:red;\">${err}</div>`;\n",
       "      throw err;\n",
       "    }\n",
       "\n",
       "    function displayChart(vegaEmbed) {\n",
       "      vegaEmbed(outputDiv, spec, embedOpt)\n",
       "        .catch(err => showError(`Javascript Error: ${err.message}<br>This usually means there's a typo in your chart specification. See the javascript console for the full traceback.`));\n",
       "    }\n",
       "\n",
       "    if(typeof define === \"function\" && define.amd) {\n",
       "      requirejs.config({paths});\n",
       "      require([\"vega-embed\"], displayChart, err => showError(`Error loading script: ${err.message}`));\n",
       "    } else {\n",
       "      maybeLoadScript(\"vega\", \"5\")\n",
       "        .then(() => maybeLoadScript(\"vega-lite\", \"5.8.0\"))\n",
       "        .then(() => maybeLoadScript(\"vega-embed\", \"6\"))\n",
       "        .catch(showError)\n",
       "        .then(() => displayChart(vegaEmbed));\n",
       "    }\n",
       "  })({\"config\": {\"view\": {\"continuousWidth\": 300, \"continuousHeight\": 300}, \"axis\": {\"labelFontSize\": 5, \"titleFontSize\": 5}, \"header\": {\"labelFontSize\": 5, \"titleFontSize\": 5, \"labelPadding\": 2}, \"legend\": {\"titleFontSize\": 5, \"labelFontSize\": 5, \"symbolSize\": 10, \"padding\": -5}, \"line\": {\"strokeWidth\": 1}, \"point\": {\"size\": 10, \"strokeWidth\": 2}}, \"data\": {\"name\": \"data-490cce54c17fcd5aaeb68102a92807f2\"}, \"mark\": {\"type\": \"line\", \"point\": true}, \"encoding\": {\"color\": {\"field\": \"bleed\", \"sort\": [\"pre-immune\", \"post-immunization #2\", \"post-immunization #3\"], \"type\": \"nominal\"}, \"x\": {\"field\": \"dilution\", \"sort\": [\"1:100\", \"1:500\", \"1:2500\", \"1:12500\", \"1:62500\", \"1:312500\", \"1:1562500\", \"1:7812500\"], \"type\": \"ordinal\"}, \"y\": {\"field\": \"A450\", \"type\": \"quantitative\"}}, \"height\": 75, \"width\": 50, \"$schema\": \"https://vega.github.io/schema/vega-lite/v5.8.0.json\", \"datasets\": {\"data-490cce54c17fcd5aaeb68102a92807f2\": [{\"dilution\": \"1:100\", \"date\": \"12/1/12\", \"A450\": 2.935483871, \"bleed\": \"pre-immune\"}, {\"dilution\": \"1:500\", \"date\": \"12/1/12\", \"A450\": 1.107526882, \"bleed\": \"pre-immune\"}, {\"dilution\": \"1:2500\", \"date\": \"12/1/12\", \"A450\": 0.274193548, \"bleed\": \"pre-immune\"}, {\"dilution\": \"1:12500\", \"date\": \"12/1/12\", \"A450\": 0.086021505, \"bleed\": \"pre-immune\"}, {\"dilution\": \"1:62500\", \"date\": \"12/1/12\", \"A450\": 0.059139785, \"bleed\": \"pre-immune\"}, {\"dilution\": \"1:312500\", \"date\": \"12/1/12\", \"A450\": 0.032258065, \"bleed\": \"pre-immune\"}, {\"dilution\": \"1:1562500\", \"date\": \"12/1/12\", \"A450\": 0.032258065, \"bleed\": \"pre-immune\"}, {\"dilution\": \"1:7812500\", \"date\": \"12/1/12\", \"A450\": 0.032258065, \"bleed\": \"pre-immune\"}, {\"dilution\": \"1:100\", \"date\": \"1/14/13\", \"A450\": 4.225806452, \"bleed\": \"post-immunization #2\"}, {\"dilution\": \"1:500\", \"date\": \"1/14/13\", \"A450\": 4.14516129, \"bleed\": \"post-immunization #2\"}, {\"dilution\": \"1:2500\", \"date\": \"1/14/13\", \"A450\": 3.903225806, \"bleed\": \"post-immunization #2\"}, {\"dilution\": \"1:12500\", \"date\": \"1/14/13\", \"A450\": 2.801075269, \"bleed\": \"post-immunization #2\"}, {\"dilution\": \"1:62500\", \"date\": \"1/14/13\", \"A450\": 0.892473118, \"bleed\": \"post-immunization #2\"}, {\"dilution\": \"1:312500\", \"date\": \"1/14/13\", \"A450\": 0.193548387, \"bleed\": \"post-immunization #2\"}, {\"dilution\": \"1:1562500\", \"date\": \"1/14/13\", \"A450\": 0.059139785, \"bleed\": \"post-immunization #2\"}, {\"dilution\": \"1:7812500\", \"date\": \"1/14/13\", \"A450\": 0.059139785, \"bleed\": \"post-immunization #2\"}, {\"dilution\": \"1:100\", \"date\": \"2/5/13\", \"A450\": 4.252688172, \"bleed\": \"post-immunization #3\"}, {\"dilution\": \"1:500\", \"date\": \"2/5/13\", \"A450\": 4.11827957, \"bleed\": \"post-immunization #3\"}, {\"dilution\": \"1:2500\", \"date\": \"2/5/13\", \"A450\": 3.983870968, \"bleed\": \"post-immunization #3\"}, {\"dilution\": \"1:12500\", \"date\": \"2/5/13\", \"A450\": 3.231182796, \"bleed\": \"post-immunization #3\"}, {\"dilution\": \"1:62500\", \"date\": \"2/5/13\", \"A450\": 1.322580645, \"bleed\": \"post-immunization #3\"}, {\"dilution\": \"1:312500\", \"date\": \"2/5/13\", \"A450\": 0.301075269, \"bleed\": \"post-immunization #3\"}, {\"dilution\": \"1:1562500\", \"date\": \"2/5/13\", \"A450\": 0.086021505, \"bleed\": \"post-immunization #3\"}, {\"dilution\": \"1:7812500\", \"date\": \"2/5/13\", \"A450\": 0.032258065, \"bleed\": \"post-immunization #3\"}]}}, {\"mode\": \"vega-lite\"});\n",
       "</script>"
      ],
      "text/plain": [
       "alt.Chart(...)"
      ]
     },
     "execution_count": 7,
     "metadata": {},
     "output_type": "execute_result"
    }
   ],
   "source": [
    "(alt.Chart(titers)\n",
    " .mark_line(point=True)\n",
    " .encode(\n",
    "    x=alt.X(\"dilution:O\", sort=dilution_order),\n",
    "    y=\"A450:Q\",\n",
    "    color=alt.Color(\"bleed\", sort=list(date_key.values()))\n",
    " )\n",
    " .properties(\n",
    "     width=50,\n",
    "     height=75\n",
    " )\n",
    " .configure(\n",
    "     point=dict(\n",
    "         size=FONT_SIZE*2,\n",
    "         strokeWidth=2,\n",
    "     ),\n",
    "     line=dict(\n",
    "         # size=FONT_SIZE,\n",
    "         strokeWidth=1,\n",
    "     ),\n",
    "     header=dict(\n",
    "         labelFontSize=FONT_SIZE,\n",
    "         titleFontSize=FONT_SIZE,\n",
    "         labelPadding=FONT_SIZE//2,\n",
    "     ),\n",
    "     axis=dict(\n",
    "         labelFontSize=FONT_SIZE,\n",
    "         titleFontSize=FONT_SIZE\n",
    "     ),\n",
    "     legend=dict(\n",
    "         titleFontSize=FONT_SIZE,\n",
    "         labelFontSize=FONT_SIZE,\n",
    "         symbolSize=FONT_SIZE*2,\n",
    "         padding=-FONT_SIZE\n",
    "     )\n",
    " )\n",
    ")"
   ]
  }
 ],
 "metadata": {
  "kernelspec": {
   "display_name": "Python [conda env:nbseq]",
   "language": "python",
   "name": "conda-env-nbseq-py"
  },
  "language_info": {
   "codemirror_mode": {
    "name": "ipython",
    "version": 3
   },
   "file_extension": ".py",
   "mimetype": "text/x-python",
   "name": "python",
   "nbconvert_exporter": "python",
   "pygments_lexer": "ipython3",
   "version": "3.10.11"
  }
 },
 "nbformat": 4,
 "nbformat_minor": 5
}
