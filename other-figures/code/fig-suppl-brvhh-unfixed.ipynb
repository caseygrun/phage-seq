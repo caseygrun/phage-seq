{
 "cells": [
  {
   "cell_type": "markdown",
   "id": "deb34ade-32e4-4150-919d-86ab4d4bec4f",
   "metadata": {},
   "source": [
    "# Live cell ELISA and flow cytometry using rVHHs identified by solid-phase panning (`fig-suppl-brvhh-unfixed`)"
   ]
  },
  {
   "cell_type": "code",
   "execution_count": 1,
   "id": "f8c6890e-0cef-4e3a-b9b3-2e5a43400aab",
   "metadata": {},
   "outputs": [],
   "source": [
    "import altair as alt\n",
    "import seaborn as sns\n",
    "import pandas as pd\n",
    "import numpy as np\n",
    "import re"
   ]
  },
  {
   "cell_type": "markdown",
   "id": "ba7f1408-dc3a-44e2-98d8-8e6bcb549287",
   "metadata": {},
   "source": [
    "## Live cell ELISA with brVHHs"
   ]
  },
  {
   "cell_type": "code",
   "execution_count": 2,
   "id": "a34290f2-cc2d-4835-9bf7-7c73ae00c936",
   "metadata": {},
   "outputs": [],
   "source": [
    "%%bash\n",
    "out=../output/fig-suppl-brvhh-unfixed/,\n",
    "rm -rf \"$out\"\n",
    "mkdir -p \"$out\""
   ]
  },
  {
   "cell_type": "code",
   "execution_count": 3,
   "id": "0663a17a-c81a-493e-9fe9-e8b7323ff8e3",
   "metadata": {},
   "outputs": [],
   "source": [
    "data = pd.read_csv('../data/fig-suppl-brvhh-unfixed/2021-09-22_CG025ah_cell_ELISA/CG025ah.csv')\n",
    "data['cells_fmt'] = data['cells_per_well'].apply(lambda x: f\"{x:g}\")\n",
    "data['bait_ag'] = data['bait_ag'].replace({'+':'Antigen+ cells', '-':'Antigen- cells'})\n",
    "\n",
    "(data\n",
    " .rename(columns={'Ab':'primary antibody or brVHH', 'cells_per_well': 'cells per well', 'bait_ag': 'bait well contents'})\n",
    " .drop(columns=['cells_fmt'])\n",
    " .to_csv('../output/fig-suppl-brvhh-unfixed/brvhhs-live-cell-based-elisas.csv', index=False)\n",
    ")"
   ]
  },
  {
   "cell_type": "code",
   "execution_count": 4,
   "id": "6ba7cb8b-368f-4bf0-b25f-141a7df808b7",
   "metadata": {},
   "outputs": [
    {
     "data": {
      "text/plain": [
       "antigen         Ab     cells_per_well  bait_ag       \n",
       "PAK flagellin   1.3.5  62500000.0      Antigen+ cells    1\n",
       "                                       Antigen- cells    1\n",
       "                       125000000.0     Antigen+ cells    1\n",
       "                                       Antigen- cells    1\n",
       "                       250000000.0     Antigen+ cells    1\n",
       "                                                        ..\n",
       "PAO1 flagellin  no 1°  125000000.0     Antigen- cells    1\n",
       "                       250000000.0     Antigen+ cells    1\n",
       "                                       Antigen- cells    1\n",
       "                       500000000.0     Antigen+ cells    1\n",
       "                                       Antigen- cells    1\n",
       "Name: A450, Length: 85, dtype: int64"
      ]
     },
     "execution_count": 4,
     "metadata": {},
     "output_type": "execute_result"
    }
   ],
   "source": [
    "data.groupby(['antigen','Ab','cells_per_well','bait_ag'])['A450'].count()"
   ]
  },
  {
   "cell_type": "code",
   "execution_count": 5,
   "id": "cb1b46b9-6537-4046-8af5-48cb5d01d3d7",
   "metadata": {},
   "outputs": [
    {
     "data": {
      "text/html": [
       "\n",
       "<style>\n",
       "  #altair-viz-09a99b4a64844a8786d6652867ff158b.vega-embed {\n",
       "    width: 100%;\n",
       "    display: flex;\n",
       "  }\n",
       "\n",
       "  #altair-viz-09a99b4a64844a8786d6652867ff158b.vega-embed details,\n",
       "  #altair-viz-09a99b4a64844a8786d6652867ff158b.vega-embed details summary {\n",
       "    position: relative;\n",
       "  }\n",
       "</style>\n",
       "<div id=\"altair-viz-09a99b4a64844a8786d6652867ff158b\"></div>\n",
       "<script type=\"text/javascript\">\n",
       "  var VEGA_DEBUG = (typeof VEGA_DEBUG == \"undefined\") ? {} : VEGA_DEBUG;\n",
       "  (function(spec, embedOpt){\n",
       "    let outputDiv = document.currentScript.previousElementSibling;\n",
       "    if (outputDiv.id !== \"altair-viz-09a99b4a64844a8786d6652867ff158b\") {\n",
       "      outputDiv = document.getElementById(\"altair-viz-09a99b4a64844a8786d6652867ff158b\");\n",
       "    }\n",
       "    const paths = {\n",
       "      \"vega\": \"https://cdn.jsdelivr.net/npm/vega@5?noext\",\n",
       "      \"vega-lib\": \"https://cdn.jsdelivr.net/npm/vega-lib?noext\",\n",
       "      \"vega-lite\": \"https://cdn.jsdelivr.net/npm/vega-lite@5.8.0?noext\",\n",
       "      \"vega-embed\": \"https://cdn.jsdelivr.net/npm/vega-embed@6?noext\",\n",
       "    };\n",
       "\n",
       "    function maybeLoadScript(lib, version) {\n",
       "      var key = `${lib.replace(\"-\", \"\")}_version`;\n",
       "      return (VEGA_DEBUG[key] == version) ?\n",
       "        Promise.resolve(paths[lib]) :\n",
       "        new Promise(function(resolve, reject) {\n",
       "          var s = document.createElement('script');\n",
       "          document.getElementsByTagName(\"head\")[0].appendChild(s);\n",
       "          s.async = true;\n",
       "          s.onload = () => {\n",
       "            VEGA_DEBUG[key] = version;\n",
       "            return resolve(paths[lib]);\n",
       "          };\n",
       "          s.onerror = () => reject(`Error loading script: ${paths[lib]}`);\n",
       "          s.src = paths[lib];\n",
       "        });\n",
       "    }\n",
       "\n",
       "    function showError(err) {\n",
       "      outputDiv.innerHTML = `<div class=\"error\" style=\"color:red;\">${err}</div>`;\n",
       "      throw err;\n",
       "    }\n",
       "\n",
       "    function displayChart(vegaEmbed) {\n",
       "      vegaEmbed(outputDiv, spec, embedOpt)\n",
       "        .catch(err => showError(`Javascript Error: ${err.message}<br>This usually means there's a typo in your chart specification. See the javascript console for the full traceback.`));\n",
       "    }\n",
       "\n",
       "    if(typeof define === \"function\" && define.amd) {\n",
       "      requirejs.config({paths});\n",
       "      require([\"vega-embed\"], displayChart, err => showError(`Error loading script: ${err.message}`));\n",
       "    } else {\n",
       "      maybeLoadScript(\"vega\", \"5\")\n",
       "        .then(() => maybeLoadScript(\"vega-lite\", \"5.8.0\"))\n",
       "        .then(() => maybeLoadScript(\"vega-embed\", \"6\"))\n",
       "        .catch(showError)\n",
       "        .then(() => displayChart(vegaEmbed));\n",
       "    }\n",
       "  })({\"config\": {\"view\": {\"continuousWidth\": 300, \"continuousHeight\": 300}, \"axis\": {\"labelFontSize\": 6, \"titleFontSize\": 6}, \"facet\": {\"spacing\": 3}, \"header\": {\"labelFontSize\": 6, \"titleFontSize\": 6, \"labelPadding\": 3}, \"legend\": {\"titleFontSize\": 6, \"labelFontSize\": 6, \"symbolSize\": 12}, \"point\": {\"size\": 6, \"strokeWidth\": 2}}, \"data\": {\"name\": \"data-82f23078c84c84d5d936c6f2745dd639\"}, \"facet\": {\"column\": {\"field\": \"cells_fmt\", \"title\": \"cells/well\", \"type\": \"nominal\"}, \"row\": {\"field\": \"antigen\", \"sort\": [\"PAK flagellin\", \"PAO1 flagellin\", \"PAK pilin\"], \"type\": \"nominal\"}}, \"spec\": {\"mark\": {\"type\": \"circle\"}, \"encoding\": {\"fill\": {\"field\": \"bait_ag\", \"sort\": [\"-\", \"+\"], \"title\": \"bait cell antigen\", \"type\": \"nominal\"}, \"x\": {\"field\": \"Ab\", \"title\": null, \"type\": \"nominal\"}, \"y\": {\"axis\": {\"tickCount\": 5}, \"field\": \"A450\", \"title\": \"A450\", \"type\": \"quantitative\"}}, \"height\": 65, \"width\": 65}, \"resolve\": {\"axis\": {\"x\": \"independent\"}, \"scale\": {\"x\": \"independent\"}}, \"$schema\": \"https://vega.github.io/schema/vega-lite/v5.8.0.json\", \"datasets\": {\"data-82f23078c84c84d5d936c6f2745dd639\": [{\"well\": \"A1\", \"antigen\": \"PAK flagellin\", \"Ab\": \"no 1\\u00b0\", \"cells_per_well\": 500000000.0, \"bait_ag\": \"Antigen- cells\", \"SYTO9\": 44684.0, \"A450\": 0.8854750143364072, \"cells_fmt\": \"5e+08\"}, {\"well\": \"A2\", \"antigen\": \"PAK flagellin\", \"Ab\": \"antiserum\", \"cells_per_well\": 500000000.0, \"bait_ag\": \"Antigen- cells\", \"SYTO9\": 22351.0, \"A450\": 1.034074996598065, \"cells_fmt\": \"5e+08\"}, {\"well\": \"A3\", \"antigen\": \"PAK flagellin\", \"Ab\": \"1.3.5\", \"cells_per_well\": 500000000.0, \"bait_ag\": \"Antigen- cells\", \"SYTO9\": 13138.0, \"A450\": 1.124175046570599, \"cells_fmt\": \"5e+08\"}, {\"well\": \"A4\", \"antigen\": \"PAK flagellin\", \"Ab\": \"1.7.1\", \"cells_per_well\": 500000000.0, \"bait_ag\": \"Antigen- cells\", \"SYTO9\": 14854.0, \"A450\": 1.3479749904945493, \"cells_fmt\": \"5e+08\"}, {\"well\": \"A5\", \"antigen\": \"PAO1 flagellin\", \"Ab\": \"no 1\\u00b0\", \"cells_per_well\": 500000000.0, \"bait_ag\": \"Antigen- cells\", \"SYTO9\": 18848.0, \"A450\": 0.6432749973610044, \"cells_fmt\": \"5e+08\"}, {\"well\": \"A6\", \"antigen\": \"PAO1 flagellin\", \"Ab\": \"antiserum\", \"cells_per_well\": 500000000.0, \"bait_ag\": \"Antigen- cells\", \"SYTO9\": 23767.0, \"A450\": 1.15607497561723, \"cells_fmt\": \"5e+08\"}, {\"well\": \"A7\", \"antigen\": \"PAO1 flagellin\", \"Ab\": \"2.5.6\", \"cells_per_well\": 500000000.0, \"bait_ag\": \"Antigen- cells\", \"SYTO9\": 23143.0, \"A450\": 0.7677749739959836, \"cells_fmt\": \"5e+08\"}, {\"well\": \"A8\", \"antigen\": \"PAO1 flagellin\", \"Ab\": \"2.13.1\", \"cells_per_well\": 500000000.0, \"bait_ag\": \"Antigen- cells\", \"SYTO9\": 20629.0, \"A450\": 1.0308749424293635, \"cells_fmt\": \"5e+08\"}, {\"well\": \"A9\", \"antigen\": \"PAK pilin\", \"Ab\": \"no 1\\u00b0\", \"cells_per_well\": 500000000.0, \"bait_ag\": \"Antigen- cells\", \"SYTO9\": 35991.0, \"A450\": 0.8187749730423093, \"cells_fmt\": \"5e+08\"}, {\"well\": \"A10\", \"antigen\": \"PAK pilin\", \"Ab\": \"antiserum\", \"cells_per_well\": 500000000.0, \"bait_ag\": \"Antigen- cells\", \"SYTO9\": 25162.0, \"A450\": 1.5918750511482358, \"cells_fmt\": \"5e+08\"}, {\"well\": \"A11\", \"antigen\": \"PAK pilin\", \"Ab\": \"4.2.1\", \"cells_per_well\": 500000000.0, \"bait_ag\": \"Antigen- cells\", \"SYTO9\": 43094.0, \"A450\": 1.295374964363873, \"cells_fmt\": \"5e+08\"}, {\"well\": \"A12\", \"antigen\": \"PAK pilin\", \"Ab\": \"4.2.1\", \"cells_per_well\": 500000000.0, \"bait_ag\": \"Antigen- cells\", \"SYTO9\": 15009.0, \"A450\": 1.110475038178265, \"cells_fmt\": \"5e+08\"}, {\"well\": \"B1\", \"antigen\": \"PAK flagellin\", \"Ab\": \"no 1\\u00b0\", \"cells_per_well\": 250000000.0, \"bait_ag\": \"Antigen- cells\", \"SYTO9\": 14910.0, \"A450\": 0.5056749926880002, \"cells_fmt\": \"2.5e+08\"}, {\"well\": \"B2\", \"antigen\": \"PAK flagellin\", \"Ab\": \"antiserum\", \"cells_per_well\": 250000000.0, \"bait_ag\": \"Antigen- cells\", \"SYTO9\": 11123.0, \"A450\": 0.6186750279739499, \"cells_fmt\": \"2.5e+08\"}, {\"well\": \"B3\", \"antigen\": \"PAK flagellin\", \"Ab\": \"1.3.5\", \"cells_per_well\": 250000000.0, \"bait_ag\": \"Antigen- cells\", \"SYTO9\": 8008.0, \"A450\": 0.748374973423779, \"cells_fmt\": \"2.5e+08\"}, {\"well\": \"B4\", \"antigen\": \"PAK flagellin\", \"Ab\": \"1.7.1\", \"cells_per_well\": 250000000.0, \"bait_ag\": \"Antigen- cells\", \"SYTO9\": 8715.0, \"A450\": 0.906174992211163, \"cells_fmt\": \"2.5e+08\"}, {\"well\": \"B5\", \"antigen\": \"PAO1 flagellin\", \"Ab\": \"no 1\\u00b0\", \"cells_per_well\": 250000000.0, \"bait_ag\": \"Antigen- cells\", \"SYTO9\": 10433.0, \"A450\": 0.4288750039413571, \"cells_fmt\": \"2.5e+08\"}, {\"well\": \"B6\", \"antigen\": \"PAO1 flagellin\", \"Ab\": \"antiserum\", \"cells_per_well\": 250000000.0, \"bait_ag\": \"Antigen- cells\", \"SYTO9\": 11402.0, \"A450\": 0.9391749845817684, \"cells_fmt\": \"2.5e+08\"}, {\"well\": \"B7\", \"antigen\": \"PAO1 flagellin\", \"Ab\": \"2.5.6\", \"cells_per_well\": 250000000.0, \"bait_ag\": \"Antigen- cells\", \"SYTO9\": 12279.0, \"A450\": 0.5010750042274594, \"cells_fmt\": \"2.5e+08\"}, {\"well\": \"B8\", \"antigen\": \"PAO1 flagellin\", \"Ab\": \"2.13.1\", \"cells_per_well\": 250000000.0, \"bait_ag\": \"Antigen- cells\", \"SYTO9\": 10485.0, \"A450\": 0.8039750205352902, \"cells_fmt\": \"2.5e+08\"}, {\"well\": \"B9\", \"antigen\": \"PAK pilin\", \"Ab\": \"no 1\\u00b0\", \"cells_per_well\": 250000000.0, \"bait_ag\": \"Antigen- cells\", \"SYTO9\": 20720.0, \"A450\": 0.4729749904945493, \"cells_fmt\": \"2.5e+08\"}, {\"well\": \"B10\", \"antigen\": \"PAK pilin\", \"Ab\": \"antiserum\", \"cells_per_well\": 250000000.0, \"bait_ag\": \"Antigen- cells\", \"SYTO9\": 14195.0, \"A450\": 0.9439749466255308, \"cells_fmt\": \"2.5e+08\"}, {\"well\": \"B11\", \"antigen\": \"PAK pilin\", \"Ab\": \"4.2.1\", \"cells_per_well\": 250000000.0, \"bait_ag\": \"Antigen- cells\", \"SYTO9\": 22196.0, \"A450\": 0.7646749960258603, \"cells_fmt\": \"2.5e+08\"}, {\"well\": \"B12\", \"antigen\": \"PAK pilin\", \"Ab\": \"4.2.1\", \"cells_per_well\": 250000000.0, \"bait_ag\": \"Antigen- cells\", \"SYTO9\": 7973.0, \"A450\": 0.6128750192001462, \"cells_fmt\": \"2.5e+08\"}, {\"well\": \"C1\", \"antigen\": \"PAK flagellin\", \"Ab\": \"no 1\\u00b0\", \"cells_per_well\": 125000000.0, \"bait_ag\": \"Antigen- cells\", \"SYTO9\": 6372.0, \"A450\": 0.2504749940708279, \"cells_fmt\": \"1.25e+08\"}, {\"well\": \"C2\", \"antigen\": \"PAK flagellin\", \"Ab\": \"antiserum\", \"cells_per_well\": 125000000.0, \"bait_ag\": \"Antigen- cells\", \"SYTO9\": 4674.0, \"A450\": 0.3139750109985471, \"cells_fmt\": \"1.25e+08\"}, {\"well\": \"C3\", \"antigen\": \"PAK flagellin\", \"Ab\": \"1.3.5\", \"cells_per_well\": 125000000.0, \"bait_ag\": \"Antigen- cells\", \"SYTO9\": 3458.0, \"A450\": 0.4123750077560544, \"cells_fmt\": \"1.25e+08\"}, {\"well\": \"C4\", \"antigen\": \"PAK flagellin\", \"Ab\": \"1.7.1\", \"cells_per_well\": 125000000.0, \"bait_ag\": \"Antigen- cells\", \"SYTO9\": 3804.0, \"A450\": 0.4732749806717038, \"cells_fmt\": \"1.25e+08\"}, {\"well\": \"C5\", \"antigen\": \"PAO1 flagellin\", \"Ab\": \"no 1\\u00b0\", \"cells_per_well\": 125000000.0, \"bait_ag\": \"Antigen- cells\", \"SYTO9\": 4764.0, \"A450\": 0.2391749965026974, \"cells_fmt\": \"1.25e+08\"}, {\"well\": \"C6\", \"antigen\": \"PAO1 flagellin\", \"Ab\": \"antiserum\", \"cells_per_well\": 125000000.0, \"bait_ag\": \"Antigen- cells\", \"SYTO9\": 5362.0, \"A450\": 0.6911750184372067, \"cells_fmt\": \"1.25e+08\"}, {\"well\": \"C7\", \"antigen\": \"PAO1 flagellin\", \"Ab\": \"2.5.6\", \"cells_per_well\": 125000000.0, \"bait_ag\": \"Antigen- cells\", \"SYTO9\": 5866.0, \"A450\": 0.2924749897792935, \"cells_fmt\": \"1.25e+08\"}, {\"well\": \"C8\", \"antigen\": \"PAO1 flagellin\", \"Ab\": \"2.13.1\", \"cells_per_well\": 125000000.0, \"bait_ag\": \"Antigen- cells\", \"SYTO9\": 5038.0, \"A450\": 0.5173750268295407, \"cells_fmt\": \"1.25e+08\"}, {\"well\": \"C9\", \"antigen\": \"PAK pilin\", \"Ab\": \"no 1\\u00b0\", \"cells_per_well\": 125000000.0, \"bait_ag\": \"Antigen- cells\", \"SYTO9\": 8075.0, \"A450\": 0.2526750015094876, \"cells_fmt\": \"1.25e+08\"}, {\"well\": \"C10\", \"antigen\": \"PAK pilin\", \"Ab\": \"antiserum\", \"cells_per_well\": 125000000.0, \"bait_ag\": \"Antigen- cells\", \"SYTO9\": 5950.0, \"A450\": 0.4891749965026974, \"cells_fmt\": \"1.25e+08\"}, {\"well\": \"C11\", \"antigen\": \"PAK pilin\", \"Ab\": \"4.2.1\", \"cells_per_well\": 125000000.0, \"bait_ag\": \"Antigen- cells\", \"SYTO9\": 9269.0, \"A450\": 0.3996749864891171, \"cells_fmt\": \"1.25e+08\"}, {\"well\": \"C12\", \"antigen\": \"PAK pilin\", \"Ab\": \"4.2.1\", \"cells_per_well\": 125000000.0, \"bait_ag\": \"Antigen- cells\", \"SYTO9\": 3892.0, \"A450\": 0.3355749892070889, \"cells_fmt\": \"1.25e+08\"}, {\"well\": \"D1\", \"antigen\": \"PAK flagellin\", \"Ab\": \"no 1\\u00b0\", \"cells_per_well\": 62500000.0, \"bait_ag\": \"Antigen- cells\", \"SYTO9\": 2743.0, \"A450\": 0.1263749944046139, \"cells_fmt\": \"6.25e+07\"}, {\"well\": \"D2\", \"antigen\": \"PAK flagellin\", \"Ab\": \"antiserum\", \"cells_per_well\": 62500000.0, \"bait_ag\": \"Antigen- cells\", \"SYTO9\": 1855.0, \"A450\": 0.148175005801022, \"cells_fmt\": \"6.25e+07\"}, {\"well\": \"D3\", \"antigen\": \"PAK flagellin\", \"Ab\": \"1.3.5\", \"cells_per_well\": 62500000.0, \"bait_ag\": \"Antigen- cells\", \"SYTO9\": 1303.0, \"A450\": 0.1802749978378415, \"cells_fmt\": \"6.25e+07\"}, {\"well\": \"D4\", \"antigen\": \"PAK flagellin\", \"Ab\": \"1.7.1\", \"cells_per_well\": 62500000.0, \"bait_ag\": \"Antigen- cells\", \"SYTO9\": 1388.0, \"A450\": 0.2252749847248196, \"cells_fmt\": \"6.25e+07\"}, {\"well\": \"D5\", \"antigen\": \"PAO1 flagellin\", \"Ab\": \"no 1\\u00b0\", \"cells_per_well\": 62500000.0, \"bait_ag\": \"Antigen- cells\", \"SYTO9\": 1934.0, \"A450\": 0.1221749978139996, \"cells_fmt\": \"6.25e+07\"}, {\"well\": \"D6\", \"antigen\": \"PAO1 flagellin\", \"Ab\": \"antiserum\", \"cells_per_well\": 62500000.0, \"bait_ag\": \"Antigen- cells\", \"SYTO9\": 2179.0, \"A450\": 0.3693749951198697, \"cells_fmt\": \"6.25e+07\"}, {\"well\": \"D7\", \"antigen\": \"PAO1 flagellin\", \"Ab\": \"2.5.6\", \"cells_per_well\": 62500000.0, \"bait_ag\": \"Antigen- cells\", \"SYTO9\": 2243.0, \"A450\": 0.1525750057771802, \"cells_fmt\": \"6.25e+07\"}, {\"well\": \"D8\", \"antigen\": \"PAO1 flagellin\", \"Ab\": \"2.13.1\", \"cells_per_well\": 62500000.0, \"bait_ag\": \"Antigen- cells\", \"SYTO9\": 2248.0, \"A450\": 0.2742750095203519, \"cells_fmt\": \"6.25e+07\"}, {\"well\": \"D9\", \"antigen\": \"PAK pilin\", \"Ab\": \"no 1\\u00b0\", \"cells_per_well\": 62500000.0, \"bait_ag\": \"Antigen- cells\", \"SYTO9\": 4659.0, \"A450\": 0.1518749939277768, \"cells_fmt\": \"6.25e+07\"}, {\"well\": \"D10\", \"antigen\": \"PAK pilin\", \"Ab\": \"antiserum\", \"cells_per_well\": 62500000.0, \"bait_ag\": \"Antigen- cells\", \"SYTO9\": 3321.0, \"A450\": 0.2797749983146786, \"cells_fmt\": \"6.25e+07\"}, {\"well\": \"D11\", \"antigen\": \"PAK pilin\", \"Ab\": \"4.2.1\", \"cells_per_well\": 62500000.0, \"bait_ag\": \"Antigen- cells\", \"SYTO9\": 4925.0, \"A450\": 0.2208749996498227, \"cells_fmt\": \"6.25e+07\"}, {\"well\": \"D12\", \"antigen\": \"PAK pilin\", \"Ab\": \"4.2.1\", \"cells_per_well\": 62500000.0, \"bait_ag\": \"Antigen- cells\", \"SYTO9\": 2007.0, \"A450\": 0.1849750028923154, \"cells_fmt\": \"6.25e+07\"}, {\"well\": \"E1\", \"antigen\": \"PAK flagellin\", \"Ab\": \"no 1\\u00b0\", \"cells_per_well\": 500000000.0, \"bait_ag\": \"Antigen+ cells\", \"SYTO9\": 36890.0, \"A450\": 0.8327749716117978, \"cells_fmt\": \"5e+08\"}, {\"well\": \"E2\", \"antigen\": \"PAK flagellin\", \"Ab\": \"antiserum\", \"cells_per_well\": 500000000.0, \"bait_ag\": \"Antigen+ cells\", \"SYTO9\": 32467.0, \"A450\": 3.16587505210191, \"cells_fmt\": \"5e+08\"}, {\"well\": \"E3\", \"antigen\": \"PAK flagellin\", \"Ab\": \"1.3.5\", \"cells_per_well\": 500000000.0, \"bait_ag\": \"Antigen+ cells\", \"SYTO9\": 26543.0, \"A450\": 1.1233750330284238, \"cells_fmt\": \"5e+08\"}, {\"well\": \"E4\", \"antigen\": \"PAK flagellin\", \"Ab\": \"1.7.1\", \"cells_per_well\": 500000000.0, \"bait_ag\": \"Antigen+ cells\", \"SYTO9\": 24056.0, \"A450\": 1.2772749410942197, \"cells_fmt\": \"5e+08\"}, {\"well\": \"E5\", \"antigen\": \"PAO1 flagellin\", \"Ab\": \"no 1\\u00b0\", \"cells_per_well\": 500000000.0, \"bait_ag\": \"Antigen+ cells\", \"SYTO9\": 3414.0, \"A450\": 0.4003750132396817, \"cells_fmt\": \"5e+08\"}, {\"well\": \"E6\", \"antigen\": \"PAO1 flagellin\", \"Ab\": \"antiserum\", \"cells_per_well\": 500000000.0, \"bait_ag\": \"Antigen+ cells\", \"SYTO9\": 3101.0, \"A450\": 1.134875033982098, \"cells_fmt\": \"5e+08\"}, {\"well\": \"E7\", \"antigen\": \"PAO1 flagellin\", \"Ab\": \"2.5.6\", \"cells_per_well\": 500000000.0, \"bait_ag\": \"Antigen+ cells\", \"SYTO9\": 4145.0, \"A450\": 0.5816750274971128, \"cells_fmt\": \"5e+08\"}, {\"well\": \"E8\", \"antigen\": \"PAO1 flagellin\", \"Ab\": \"2.13.1\", \"cells_per_well\": 500000000.0, \"bait_ag\": \"Antigen+ cells\", \"SYTO9\": 6330.0, \"A450\": 1.3138750540092587, \"cells_fmt\": \"5e+08\"}, {\"well\": \"E9\", \"antigen\": \"PAK pilin\", \"Ab\": \"no 1\\u00b0\", \"cells_per_well\": 500000000.0, \"bait_ag\": \"Antigen+ cells\", \"SYTO9\": 41639.0, \"A450\": 0.8956749783828855, \"cells_fmt\": \"5e+08\"}, {\"well\": \"E10\", \"antigen\": \"PAK pilin\", \"Ab\": \"antiserum\", \"cells_per_well\": 500000000.0, \"bait_ag\": \"Antigen+ cells\", \"SYTO9\": 29329.0, \"A450\": 3.3948749052360654, \"cells_fmt\": \"5e+08\"}, {\"well\": \"E11\", \"antigen\": \"PAK pilin\", \"Ab\": \"4.2.1\", \"cells_per_well\": 500000000.0, \"bait_ag\": \"Antigen+ cells\", \"SYTO9\": 48452.0, \"A450\": 1.555474971421063, \"cells_fmt\": \"5e+08\"}, {\"well\": \"E12\", \"antigen\": \"PAK pilin\", \"Ab\": \"4.2.1\", \"cells_per_well\": 500000000.0, \"bait_ag\": \"Antigen+ cells\", \"SYTO9\": 21671.0, \"A450\": 1.4040750013664365, \"cells_fmt\": \"5e+08\"}, {\"well\": \"F1\", \"antigen\": \"PAK flagellin\", \"Ab\": \"no 1\\u00b0\", \"cells_per_well\": 250000000.0, \"bait_ag\": \"Antigen+ cells\", \"SYTO9\": 16309.0, \"A450\": 0.513874982483685, \"cells_fmt\": \"2.5e+08\"}, {\"well\": \"F2\", \"antigen\": \"PAK flagellin\", \"Ab\": \"antiserum\", \"cells_per_well\": 250000000.0, \"bait_ag\": \"Antigen+ cells\", \"SYTO9\": 14671.0, \"A450\": 2.639774893410504, \"cells_fmt\": \"2.5e+08\"}, {\"well\": \"F3\", \"antigen\": \"PAK flagellin\", \"Ab\": \"1.3.5\", \"cells_per_well\": 250000000.0, \"bait_ag\": \"Antigen+ cells\", \"SYTO9\": 11236.0, \"A450\": 0.7124749766662717, \"cells_fmt\": \"2.5e+08\"}, {\"well\": \"F4\", \"antigen\": \"PAK flagellin\", \"Ab\": \"1.7.1\", \"cells_per_well\": 250000000.0, \"bait_ag\": \"Antigen+ cells\", \"SYTO9\": 11288.0, \"A450\": 0.8328749882057309, \"cells_fmt\": \"2.5e+08\"}, {\"well\": \"F5\", \"antigen\": \"PAO1 flagellin\", \"Ab\": \"no 1\\u00b0\", \"cells_per_well\": 250000000.0, \"bait_ag\": \"Antigen+ cells\", \"SYTO9\": 1760.0, \"A450\": 0.2201750027015805, \"cells_fmt\": \"2.5e+08\"}, {\"well\": \"F6\", \"antigen\": \"PAO1 flagellin\", \"Ab\": \"antiserum\", \"cells_per_well\": 250000000.0, \"bait_ag\": \"Antigen+ cells\", \"SYTO9\": 1577.0, \"A450\": 0.6907750116661191, \"cells_fmt\": \"2.5e+08\"}, {\"well\": \"F7\", \"antigen\": \"PAO1 flagellin\", \"Ab\": \"2.5.6\", \"cells_per_well\": 250000000.0, \"bait_ag\": \"Antigen+ cells\", \"SYTO9\": 2162.0, \"A450\": 0.3281750129535794, \"cells_fmt\": \"2.5e+08\"}, {\"well\": \"F8\", \"antigen\": \"PAO1 flagellin\", \"Ab\": \"2.13.1\", \"cells_per_well\": 250000000.0, \"bait_ag\": \"Antigen+ cells\", \"SYTO9\": 3329.0, \"A450\": 0.8539749728515744, \"cells_fmt\": \"2.5e+08\"}, {\"well\": \"F9\", \"antigen\": \"PAK pilin\", \"Ab\": \"no 1\\u00b0\", \"cells_per_well\": 250000000.0, \"bait_ag\": \"Antigen+ cells\", \"SYTO9\": 18528.0, \"A450\": 0.5614750133827329, \"cells_fmt\": \"2.5e+08\"}, {\"well\": \"F10\", \"antigen\": \"PAK pilin\", \"Ab\": \"antiserum\", \"cells_per_well\": 250000000.0, \"bait_ag\": \"Antigen+ cells\", \"SYTO9\": 14482.0, \"A450\": 2.9200750337913632, \"cells_fmt\": \"2.5e+08\"}, {\"well\": \"F11\", \"antigen\": \"PAK pilin\", \"Ab\": \"4.2.1\", \"cells_per_well\": 250000000.0, \"bait_ag\": \"Antigen+ cells\", \"SYTO9\": 21972.0, \"A450\": 1.2408749805763364, \"cells_fmt\": \"2.5e+08\"}, {\"well\": \"F12\", \"antigen\": \"PAK pilin\", \"Ab\": \"4.2.1\", \"cells_per_well\": 250000000.0, \"bait_ag\": \"Antigen+ cells\", \"SYTO9\": 9444.0, \"A450\": 1.1083750473335383, \"cells_fmt\": \"2.5e+08\"}, {\"well\": \"G1\", \"antigen\": \"PAK flagellin\", \"Ab\": \"no 1\\u00b0\", \"cells_per_well\": 125000000.0, \"bait_ag\": \"Antigen+ cells\", \"SYTO9\": 7382.0, \"A450\": 0.270475004799664, \"cells_fmt\": \"1.25e+08\"}, {\"well\": \"G2\", \"antigen\": \"PAK flagellin\", \"Ab\": \"antiserum\", \"cells_per_well\": 125000000.0, \"bait_ag\": \"Antigen+ cells\", \"SYTO9\": 6838.0, \"A450\": 2.54907498229295, \"cells_fmt\": \"1.25e+08\"}, {\"well\": \"G3\", \"antigen\": \"PAK flagellin\", \"Ab\": \"1.3.5\", \"cells_per_well\": 125000000.0, \"bait_ag\": \"Antigen+ cells\", \"SYTO9\": 5092.0, \"A450\": 0.3837750004604459, \"cells_fmt\": \"1.25e+08\"}, {\"well\": \"G4\", \"antigen\": \"PAK flagellin\", \"Ab\": \"1.7.1\", \"cells_per_well\": 125000000.0, \"bait_ag\": \"Antigen+ cells\", \"SYTO9\": 5002.0, \"A450\": 0.4656749712303281, \"cells_fmt\": \"1.25e+08\"}, {\"well\": \"G5\", \"antigen\": \"PAO1 flagellin\", \"Ab\": \"no 1\\u00b0\", \"cells_per_well\": 125000000.0, \"bait_ag\": \"Antigen+ cells\", \"SYTO9\": 861.0, \"A450\": 0.1097749965265393, \"cells_fmt\": \"1.25e+08\"}, {\"well\": \"G6\", \"antigen\": \"PAO1 flagellin\", \"Ab\": \"antiserum\", \"cells_per_well\": 125000000.0, \"bait_ag\": \"Antigen+ cells\", \"SYTO9\": 796.0, \"A450\": 0.38177499640733, \"cells_fmt\": \"1.25e+08\"}, {\"well\": \"G7\", \"antigen\": \"PAO1 flagellin\", \"Ab\": \"2.5.6\", \"cells_per_well\": 125000000.0, \"bait_ag\": \"Antigen+ cells\", \"SYTO9\": 1083.0, \"A450\": 0.1711749928072095, \"cells_fmt\": \"1.25e+08\"}, {\"well\": \"G8\", \"antigen\": \"PAO1 flagellin\", \"Ab\": \"2.13.1\", \"cells_per_well\": 125000000.0, \"bait_ag\": \"Antigen+ cells\", \"SYTO9\": 1713.0, \"A450\": 0.5004750238731503, \"cells_fmt\": \"1.25e+08\"}, {\"well\": \"G9\", \"antigen\": \"PAK pilin\", \"Ab\": \"no 1\\u00b0\", \"cells_per_well\": 125000000.0, \"bait_ag\": \"Antigen+ cells\", \"SYTO9\": 8477.0, \"A450\": 0.3119750069454312, \"cells_fmt\": \"1.25e+08\"}, {\"well\": \"G10\", \"antigen\": \"PAK pilin\", \"Ab\": \"antiserum\", \"cells_per_well\": 125000000.0, \"bait_ag\": \"Antigen+ cells\", \"SYTO9\": 6267.0, \"A450\": 2.33127508033067, \"cells_fmt\": \"1.25e+08\"}, {\"well\": \"G11\", \"antigen\": \"PAK pilin\", \"Ab\": \"4.2.1\", \"cells_per_well\": 125000000.0, \"bait_ag\": \"Antigen+ cells\", \"SYTO9\": 10498.0, \"A450\": 0.8303749905899167, \"cells_fmt\": \"1.25e+08\"}, {\"well\": \"G12\", \"antigen\": \"PAK pilin\", \"Ab\": \"4.2.1\", \"cells_per_well\": 125000000.0, \"bait_ag\": \"Antigen+ cells\", \"SYTO9\": 4448.0, \"A450\": 0.6481749759986997, \"cells_fmt\": \"1.25e+08\"}, {\"well\": \"H1\", \"antigen\": \"PAK flagellin\", \"Ab\": \"no 1\\u00b0\", \"cells_per_well\": 62500000.0, \"bait_ag\": \"Antigen+ cells\", \"SYTO9\": 3915.0, \"A450\": 0.1766749965026974, \"cells_fmt\": \"6.25e+07\"}, {\"well\": \"H2\", \"antigen\": \"PAK flagellin\", \"Ab\": \"antiserum\", \"cells_per_well\": 62500000.0, \"bait_ag\": \"Antigen+ cells\", \"SYTO9\": 3769.0, \"A450\": 2.059875105507672, \"cells_fmt\": \"6.25e+07\"}, {\"well\": \"H3\", \"antigen\": \"PAK flagellin\", \"Ab\": \"1.3.5\", \"cells_per_well\": 62500000.0, \"bait_ag\": \"Antigen+ cells\", \"SYTO9\": 2808.0, \"A450\": 0.2395750032737851, \"cells_fmt\": \"6.25e+07\"}, {\"well\": \"H4\", \"antigen\": \"PAK flagellin\", \"Ab\": \"1.7.1\", \"cells_per_well\": 62500000.0, \"bait_ag\": \"Antigen+ cells\", \"SYTO9\": 2868.0, \"A450\": 0.3195749865844846, \"cells_fmt\": \"6.25e+07\"}, {\"well\": \"H5\", \"antigen\": \"PAO1 flagellin\", \"Ab\": \"no 1\\u00b0\", \"cells_per_well\": 62500000.0, \"bait_ag\": \"Antigen+ cells\", \"SYTO9\": 484.0, \"A450\": 0.0682750018313527, \"cells_fmt\": \"6.25e+07\"}, {\"well\": \"H6\", \"antigen\": \"PAO1 flagellin\", \"Ab\": \"antiserum\", \"cells_per_well\": 62500000.0, \"bait_ag\": \"Antigen+ cells\", \"SYTO9\": 426.0, \"A450\": 0.2292749928310513, \"cells_fmt\": \"6.25e+07\"}, {\"well\": \"H7\", \"antigen\": \"PAO1 flagellin\", \"Ab\": \"2.5.6\", \"cells_per_well\": 62500000.0, \"bait_ag\": \"Antigen+ cells\", \"SYTO9\": 1063.0, \"A450\": 0.1276750015094876, \"cells_fmt\": \"6.25e+07\"}, {\"well\": \"H8\", \"antigen\": \"PAO1 flagellin\", \"Ab\": \"2.13.1\", \"cells_per_well\": 62500000.0, \"bait_ag\": \"Antigen+ cells\", \"SYTO9\": 1030.0, \"A450\": 0.3420749949291348, \"cells_fmt\": \"6.25e+07\"}]}}, {\"mode\": \"vega-lite\"});\n",
       "</script>"
      ],
      "text/plain": [
       "alt.FacetChart(...)"
      ]
     },
     "execution_count": 5,
     "metadata": {},
     "output_type": "execute_result"
    }
   ],
   "source": [
    "FONT_SIZE=6\n",
    "_color = alt.Color('bait_ag', title='bait cell antigen', sort=['-','+'])\n",
    "(alt.Chart(data).mark_circle().encode(\n",
    "    x=alt.X('Ab', title=None),#'primary antibody'),\n",
    "    y=alt.Y('A450', title='A450', axis=alt.Axis(tickCount=5)),\n",
    "    fill=_color\n",
    ")\n",
    " .properties(width=65, height=65)\n",
    " .facet(\n",
    "     row=alt.Row('antigen', sort=['PAK flagellin','PAO1 flagellin','PAK pilin']), \n",
    "     column=alt.Column('cells_fmt', title='cells/well'))\n",
    " .resolve_scale(x='independent')\n",
    " .resolve_axis(x='independent')\n",
    " .configure(\n",
    "     view=dict(\n",
    "         # discreteWidth=dict(step=0.5*FONT_SIZE)\n",
    "     ),\n",
    "     facet=dict(\n",
    "        spacing=FONT_SIZE//2\n",
    "     ),\n",
    "     point=dict(\n",
    "         size=FONT_SIZE,\n",
    "         strokeWidth=2,\n",
    "     ),\n",
    "     header=dict(\n",
    "         labelFontSize=FONT_SIZE,\n",
    "         titleFontSize=FONT_SIZE,\n",
    "         labelPadding=FONT_SIZE//2,\n",
    "     ),\n",
    "     axis=dict(\n",
    "         labelFontSize=FONT_SIZE,\n",
    "         titleFontSize=FONT_SIZE\n",
    "     ),\n",
    "     legend=dict(\n",
    "         titleFontSize=FONT_SIZE,\n",
    "         labelFontSize=FONT_SIZE,\n",
    "         symbolSize=FONT_SIZE*2,\n",
    "         # orient=\"bottom\"\n",
    "     )\n",
    " )\n",
    ")"
   ]
  },
  {
   "cell_type": "code",
   "execution_count": null,
   "id": "2b4aea89-4086-42e9-9519-da932a459a0e",
   "metadata": {},
   "outputs": [],
   "source": []
  }
 ],
 "metadata": {
  "kernelspec": {
   "display_name": "Python [conda env:nbseq]",
   "language": "python",
   "name": "conda-env-nbseq-py"
  },
  "language_info": {
   "codemirror_mode": {
    "name": "ipython",
    "version": 3
   },
   "file_extension": ".py",
   "mimetype": "text/x-python",
   "name": "python",
   "nbconvert_exporter": "python",
   "pygments_lexer": "ipython3",
   "version": "3.10.11"
  }
 },
 "nbformat": 4,
 "nbformat_minor": 5
}
