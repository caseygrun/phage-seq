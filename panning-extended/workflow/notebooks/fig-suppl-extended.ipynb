{
 "cells": [
  {
   "cell_type": "markdown",
   "id": "f95442c0-40b0-44b1-8e1c-36cc8a85841e",
   "metadata": {},
   "source": [
    "# Barplots and rank-abundance plots of all <u>extended</u> high-throughput cell-based pannings using alpaca library"
   ]
  },
  {
   "cell_type": "markdown",
   "id": "597e791c-bf6d-4d0d-ae27-29dafabd49c1",
   "metadata": {},
   "source": [
    "Produces grids of barplots and whittaker plots for all selections in `panning-extended`. See analogous notebook for figures in [`panning-massive`: `fig-suppl-massive`](../../../panning-massive/workflow/notebooks/fig-suppl-massive.ipynb)"
   ]
  },
  {
   "cell_type": "code",
   "execution_count": 1,
   "id": "eb93a8f7-581d-4084-93de-fa0c6baf7f3c",
   "metadata": {},
   "outputs": [],
   "source": [
    "import os\n",
    "\n",
    "# change working directory to `./panning-massive` for simplicity of access to feature tables, etc\n",
    "# make sure we don't do this twice, or we'll end up in the wrong place and be very confused\n",
    "if 'dir_changed' not in globals():\n",
    "    os.chdir('../../')\n",
    "    dir_changed = True"
   ]
  },
  {
   "cell_type": "code",
   "execution_count": 2,
   "id": "3d8334f5-b4cf-441c-9ca8-7872ec1d3dd3",
   "metadata": {},
   "outputs": [],
   "source": [
    "import pandas as pd, numpy as np\n",
    "\n",
    "import matplotlib.pyplot as plt\n",
    "import seaborn as sns\n",
    "\n",
    "import plotnine\n",
    "from plotnine import *\n",
    "\n",
    "import svg_stack"
   ]
  },
  {
   "cell_type": "code",
   "execution_count": 3,
   "id": "7a137d7f-da15-4d54-a1ae-85d9ebc08c20",
   "metadata": {},
   "outputs": [],
   "source": [
    "import nbseq\n",
    "import nbseq.viz.sample as nvs\n",
    "import nbseq.viz.tree\n",
    "import nbseq.ft as nbft\n",
    "from nbseq.utils import replace_multiple\n",
    "from nbseq.viz.utils import shorten_descriptions, extract_encoded_data_plotnine"
   ]
  },
  {
   "cell_type": "code",
   "execution_count": 4,
   "id": "3a4a950c-bfc0-4e77-9bf4-dcf8ee0034ae",
   "metadata": {},
   "outputs": [],
   "source": [
    "# setup matplotlib to render figures as SVG with editable text preserved at appropriate font size\n",
    "FONT_SIZE = 5\n",
    "\n",
    "plt.rcParams.update({\n",
    "    \"font.family\":\"sans\",\n",
    "    \"font.size\": FONT_SIZE,\n",
    "    \"svg.fonttype\": \"none\"\n",
    "})"
   ]
  },
  {
   "cell_type": "code",
   "execution_count": 5,
   "id": "862a15a0-f9ba-4f8f-8211-aaf4b350dc30",
   "metadata": {},
   "outputs": [],
   "source": [
    "%config InlineBackend.figure_formats = ['svg']"
   ]
  },
  {
   "cell_type": "code",
   "execution_count": null,
   "id": "0c4c76a7-3663-4986-adf1-6ad98e29e57e",
   "metadata": {},
   "outputs": [],
   "source": []
  },
  {
   "cell_type": "markdown",
   "id": "d2bd501c-73d9-4a16-a7c3-f23039e0bd35",
   "metadata": {},
   "source": [
    "***"
   ]
  },
  {
   "cell_type": "code",
   "execution_count": 6,
   "id": "6746db0a-4fbf-4ed1-bdca-ccff01399d49",
   "metadata": {
    "scrolled": true
   },
   "outputs": [
    {
     "name": "stdout",
     "output_type": "stream",
     "text": [
      "Loading experiment panning-extended from '/vast/palmer/home.mccleary/cng2/code/phageseq-paper/panning-extended'...\n",
      "- Reading metadata from config/metadata_full.csv ...\n",
      "- Reading phenotypes from config/phenotypes.csv ...\n",
      "- Reading Config from config/config.yaml ...\n",
      "- Using SQL database at 'sqlite:////vast/palmer/home.mccleary/cng2/code/phageseq-paper/panning-extended/intermediate/aa/asvs.db'\n",
      "- Reading feature data for table 'cdr3' from results/tables/cdr3/asvs.csv (2.6 MB)...\n",
      "- Reading cdr3 feature table from results/tables/cdr3/feature_table.biom (8.4 MB)...\n",
      "- Warning: mmseqs2 database for space 'aa' at 'intermediate/aa/features_db/features' does not exist!\n",
      "- Using mmseqs2 database 'cdr3' at 'intermediate/cdr3/features_db/features'\n",
      "- Reading enrichment model (conditional ECDF) for space cdr3 from results/tables/cdr3/enrichment/null/ecdf.pickle (307.6 kB)...\n",
      "Finished in 0.28 seconds\n"
     ]
    }
   ],
   "source": [
    "ex = nbseq.Experiment.from_files(ft_aa=None,\n",
    "                                 tree_cdr3=None, tree_aa=None) #'intermediate/cdr3/features/all/alpaca/asvs.nwk')"
   ]
  },
  {
   "cell_type": "code",
   "execution_count": 7,
   "id": "6ffdef31-4365-4d79-b394-5be21320d660",
   "metadata": {
    "scrolled": true
   },
   "outputs": [
    {
     "data": {
      "text/plain": [
       "Experiment('panning-extended') with feature spaces ['cdr3']:\n",
       "  obs: ['plate.x' 'well.x' 'depth' 'expt' 'round' 'sample' 'phage_library'\n",
       "    'notes' 'r' 'io' 'kind' 'selection' 'replicate' 'name_full' 'name'\n",
       "    'well_027e' 'sel_plate_027i' 'sel_well_027i' 'selection_027j' 'plate.y'\n",
       "    'well.y' 'category' 'antigen' 'genotype_pair' 'gene_CS' 'gene_S'\n",
       "    'genotype_CS' 'background_CS' 'strain_CS' 'loc_CS' 'cond_CS' 'genotype_S'\n",
       "    'background_S' 'strain_S' 'loc_S' 'cond_S' 'cond_notes' 'bflm' 'swim'\n",
       "    'twitch' 'swarm' 'PMB-R' 'FEP-R' 'TET-R' 'CIP-R' 'CHL-R' 'GEN-R' 'ERY-R'\n",
       "    'IPM-R' 'cdiGMP' 'FliC' 'FliCa' 'FliCb' 'FlgEHKL' 'PilQ' 'PilA' 'PilB'\n",
       "    'LasA' 'LasB' 'Apr' 'XcpQ' 'ToxA' 'EstA' 'LepA' 'PlpD' 'Phz' 'Pcn' 'Pvd'\n",
       "    'Hcn' 'Rhl' 'T3SS' 'T6SS' 'Pel' 'Psl' 'CdrB' 'SCV' 'Mucoid' 'Alginate'\n",
       "    'OprM' 'OprJ' 'OprN' 'OprOP' 'OpdH' 'OprD' 'OprL' 'OprF' 'OprG' 'OprH'\n",
       "    'OprB' 'MexAB' 'MexCD' 'MexEF' 'MexJK' 'MexXY' 'MexGHI' 'PirA' 'Pfu'  'TonB'\n",
       "    'FptA' 'FpvA' 'PfeA' 'CupB5' 'CupA' 'CupB' 'CupC' 'CupD'  'LPS-LipidA-\n",
       "    Palmitoyl' 'L-LipidA-Ara4N' 'LPS-CPA' 'LPS-OSA' 'LPS-galU'  'LPS-rough'\n",
       "    'LPS' 'description']\n",
       "- cdr3    : 439 samples x 40292 features, database: intermediate/cdr3/features_db/features\n",
       "  var: ['CDR3' 'library' 'reads' 'nsamples']\n",
       "SQL: sqlite:////vast/palmer/home.mccleary/cng2/code/phageseq-paper/panning-extended/intermediate/aa/asvs.db"
      ]
     },
     "execution_count": 7,
     "metadata": {},
     "output_type": "execute_result"
    }
   ],
   "source": [
    "ex"
   ]
  },
  {
   "cell_type": "code",
   "execution_count": null,
   "id": "fb18f31d-83bc-43e0-be56-829c969236dd",
   "metadata": {},
   "outputs": [],
   "source": []
  },
  {
   "cell_type": "code",
   "execution_count": 8,
   "id": "ce0989c1-c58c-4fc0-8700-c12adc916245",
   "metadata": {},
   "outputs": [],
   "source": [
    "import re\n",
    "replacements = {\n",
    "    re.compile(r\"(\\w+)\\#[^\\s:]+\"): r\"\\1\",\n",
    "    \"ZTP riboswitch\":\"...\",\n",
    "    \"PAO397\":\"PAO1\",\n",
    "}\n",
    "    \n",
    "shorten_descriptions(ex.obs, replacements=replacements);\n",
    "shorten_descriptions(ex.fts.cdr3.obs, replacements=replacements);\n",
    "ex.fts.cdr3.obs['desc_short_ml'] = ex.fts.cdr3.obs['desc_short'].str.replace(\"/\",\"\\n\")\n",
    "\n",
    "for space in ['cdr3','aa']:\n",
    "    if space in ex.fts:\n",
    "        \n",
    "        for field in ['genotype_CS','genotype_S']: \n",
    "            ex.fts[space].obs[field] = ex.fts[space].obs[field].fillna('')\n",
    "            shorten_descriptions(ex.fts[space].obs, replacements, new_column=field, old_column=field)\n",
    "\n",
    "        obs = ex.fts[space].obs\n",
    "        # obs.loc[obs['name'] == '027i.1.C8.1','background_S'] = 'PA103'\n",
    "        # obs.loc[obs['name'] == '027i.1.H3.1','background_S'] = 'PA14'\n",
    "        # obs.loc[obs['name'] == '027i.1.H3.1','description'] = obs.loc[obs['name'] == '027i.1.H3.1','description'].str.replace('?', 'PA14 WT')\n",
    "        # obs.loc[obs['name'] == '027i.1.C8.1','description'] = obs.loc[obs['name'] == '027i.1.C8.1','description'].str.replace('?','PA103 ∆fimX yfiR#PA1121::Tn.2(Tc)')"
   ]
  },
  {
   "cell_type": "code",
   "execution_count": 9,
   "id": "45aae284-7268-409e-9164-34795d10fce9",
   "metadata": {},
   "outputs": [],
   "source": [
    "all_selections = ex.obs.query(\"expt == '027j' & kind != '-' & io != 'o'\")['selection']\n",
    "all_selections_1x = all_selections.str.match(r'\\d\\.[ABC]\\d+')\n",
    "selections_1x = list(all_selections[all_selections_1x].values)\n",
    "selections_1_100x = list(all_selections[~all_selections_1x].values)"
   ]
  },
  {
   "cell_type": "code",
   "execution_count": 10,
   "id": "b2f41dfd-501b-49d8-8fc8-1e01e8d61fbe",
   "metadata": {},
   "outputs": [],
   "source": [
    "def shorten(text):\n",
    "    from nbseq.utils import replace_multiple\n",
    "    # from nbseq.viz.utils import \n",
    "    return replace_multiple(pd.Series([text]), replacements)[0]"
   ]
  },
  {
   "cell_type": "code",
   "execution_count": 11,
   "id": "d30470b5-4039-4137-a52b-2822ccd453f7",
   "metadata": {},
   "outputs": [],
   "source": [
    "def arrayplot(files, path, ncol=6, nrow=1000):\n",
    "    import svg_stack as ss\n",
    "    k = 0\n",
    "    n = 0\n",
    "    while k < len(files):\n",
    "        n += 1       \n",
    "        page = ss.VBoxLayout()\n",
    "        for j in range(nrow):\n",
    "            row = ss.HBoxLayout()\n",
    "            for i in range(ncol):\n",
    "                row.addSVG(files[k],alignment=ss.AlignTop|ss.AlignLeft)\n",
    "                k += 1\n",
    "                if k >= len(files):\n",
    "                    break\n",
    "                    \n",
    "            page.addLayout(row)\n",
    "            if k >= len(files):\n",
    "                break\n",
    "        \n",
    "        doc = ss.Document()\n",
    "        doc.setLayout(page)\n",
    "        fn = path.format(page=n)\n",
    "        doc.save(fn)\n",
    "        print(fn)"
   ]
  },
  {
   "cell_type": "markdown",
   "id": "db22734e-02d9-4608-8237-89f8352e5ceb",
   "metadata": {},
   "source": [
    "## Barplots of high-throughput cell-based pannings using alpaca library (`fig-suppl-arrayed-barplots-extended`)"
   ]
  },
  {
   "cell_type": "code",
   "execution_count": 12,
   "id": "c6ca9db3-5cab-4da4-b957-845e1f4a35dd",
   "metadata": {},
   "outputs": [],
   "source": [
    "def top_asv_barplot(ex, query, space='cdr3', n=30, select_from_round=4, phylo=False, **kwargs):\n",
    "    samples = ex.query_ids(f\"({query}) & kind =='+' & io == 'i'\", space=space)\n",
    "    if select_from_round is not None:\n",
    "        top_from_samples = ex.query_ids(f\"({query}) & r == {select_from_round} & kind =='+' & io == 'i'\", space=space)\n",
    "    else:\n",
    "        top_from_samples = None\n",
    "    \n",
    "    \n",
    "    ft_top = nbseq.viz.sample.collapse_top_asvs(ex.fts[space], samples, top_from_samples = top_from_samples, n=n)\n",
    "    df = nbseq.ft.fortify(ft_top, obs=True, relative=True)\n",
    "    \n",
    "    if phylo:\n",
    "        return nbseq.viz.sample.top_asv_plot_phylo(df, ex.tree[space], **kwargs)\n",
    "    else: \n",
    "        return nbseq.viz.sample.top_asv_barplot(df, **kwargs)"
   ]
  },
  {
   "cell_type": "code",
   "execution_count": 13,
   "id": "5387d00e-7d67-4381-a61e-9dedc65f9b7f",
   "metadata": {},
   "outputs": [],
   "source": [
    "def _plot_expt(ex, expt, library, plot, predicates='', \n",
    "               plot_path=\"results/plots/barplots/arrayed\", \n",
    "               data_path=\"results/tables/figures/barplots/arrayed\",\n",
    "               title_pattern=\"{background_S} {antigen} - {method}\",\n",
    "               file_pattern=\"{background_S}_{antigen}_{method}.svg\",\n",
    "               show=True, sort=True,\n",
    "               # take fround round 7 to reduce impact of the \"bad\" samples on feature choice\n",
    "               last_round=7,\n",
    "               space='cdr3', **kwargs):\n",
    "    query = f\"expt == '{expt}' & phage_library == '{library}' & replicate == 1 & io == 'i' & kind == '+'\"\n",
    "    if predicates != '':\n",
    "        query += f\" & ({predicates})\"\n",
    "    ft = ex.query(query, space=space)\n",
    "    expt_samples = ft.obs['sample'].unique()\n",
    "    if sort:\n",
    "        if callable(sort):\n",
    "            expt_samples = sorted(expt_samples, key=sort)\n",
    "        else:\n",
    "            from natsort import natsorted\n",
    "            expt_samples = natsorted(expt_samples)\n",
    "        \n",
    "    print(expt_samples)\n",
    "    \n",
    "    plot_paths = []\n",
    "    data_paths = []\n",
    "    for sample in expt_samples:\n",
    "        \n",
    "        # print(nbft.query(ft, f\"sample == '{sample}'\", axis='sample').obs.r)\n",
    "        # print(nbft.query_ids(ft, f\"sample == '{sample}' & r == '5'\"))\n",
    "        \n",
    "        top_from_samples = nbft.query_ids(ft, f\"sample == '{sample}' & r == {last_round}\")\n",
    "\n",
    "        # print(\"top_from_samples:\")\n",
    "        # print(top_from_samples)\n",
    "        \n",
    "        ft_expt = nvs.collapse_top_asvs(\n",
    "            ft, \n",
    "            samples = nbft.query_ids(ft, f\"sample == '{sample}'\"),\n",
    "            top_from_samples = top_from_samples,\n",
    "            n = 40,\n",
    "            relative=True)\n",
    "        \n",
    "        first_row = ft_expt.obs.iloc[0,:]\n",
    "        # print(\"{sample} - {background_CS} {genotype_CS} vs. {background_S} {genotype_S}\".format(**first_row))\n",
    "        # print(ft_expt)\n",
    "        \n",
    "        _plot = plot(\n",
    "            nbft.fortify(ft_expt, obs=True),\n",
    "            title=shorten(title_pattern.format(**first_row)), **kwargs) \n",
    "\n",
    "        \n",
    "        fn = file_pattern.format(**first_row).replace(os.path.sep,\"_\")\n",
    "        plotpath = plot_path + os.path.sep + fn + '.svg'\n",
    "        datapath = data_path + os.path.sep + fn + '.csv'\n",
    "        _plot.save(plotpath)\n",
    "\n",
    "        df = extract_encoded_data_plotnine(_plot)\n",
    "        df.to_csv(datapath, index=False)\n",
    "        \n",
    "        if show:\n",
    "            display(_plot)\n",
    "        plot_paths.append(plotpath)\n",
    "        data_paths.append(datapath)\n",
    "        \n",
    "    return plot_paths, data_paths\n",
    "\n",
    "def plot_expt_bar(ex, expt, library, predicates='', space='cdr3', layers = [], **kwargs):\n",
    "    # expt_samples = ex.fts[space].obs.query(f\"expt == '{expt}' & phage_library == '{library}'\")['sample'].unique()\n",
    "\n",
    "\n",
    "    \n",
    "    def do_plot_bar(df, title=None, **kwargs):\n",
    "        gg = (nvs.top_asv_barplot(df, feature_name=space.upper(), **kwargs) \n",
    "              + ggtitle(title) \n",
    "              + theme(figure_size=(2,2)))\n",
    "        gg += layers\n",
    "        # gg.draw()\n",
    "        return gg\n",
    "        \n",
    "    return _plot_expt(ex, expt, library=library, predicates=predicates, space=space, plot=do_plot_bar, **kwargs)\n"
   ]
  },
  {
   "cell_type": "code",
   "execution_count": 14,
   "id": "99c2ffd9-bbf5-4f0c-89c1-3e8647179cc5",
   "metadata": {},
   "outputs": [],
   "source": [
    "def sort_row_first(x):\n",
    "    import re\n",
    "    m = re.match('(\\d)\\.(\\w)(\\d+)', x)\n",
    "    return (m.group(1), int(m.group(3)), m.group(2))"
   ]
  },
  {
   "cell_type": "code",
   "execution_count": 15,
   "id": "bc3902fd-f1f4-4073-a2a7-53988bc75286",
   "metadata": {},
   "outputs": [],
   "source": [
    "def compile_data_frames(paths, output):\n",
    "    dfs = []\n",
    "    for path in paths:\n",
    "        dfs.append(pd.read_csv(path))\n",
    "    pd.concat(dfs).to_csv(output, index=False)"
   ]
  },
  {
   "cell_type": "code",
   "execution_count": null,
   "id": "a730a0d7-7f1b-4ddf-a80f-4a91ab5e215a",
   "metadata": {},
   "outputs": [],
   "source": []
  },
  {
   "cell_type": "code",
   "execution_count": 16,
   "id": "6fce9b7d-3a9c-451b-a806-8a542b024543",
   "metadata": {},
   "outputs": [],
   "source": [
    "layers = [\n",
    "    scale_y_continuous(expand=(0,0)),\n",
    "    theme_bw(), \n",
    "    theme(\n",
    "        axis_title_x=element_blank(),\n",
    "        axis_title_y=element_blank(),\n",
    "        figure_size=(2,1.5),\n",
    "        legend_text=element_text(margin=dict(l=0.5)),\n",
    "        legend_key_height=3,\n",
    "        legend_key_width=3,\n",
    "        legend_entry_spacing_y=0,\n",
    "        # legend_entry_spacing_x=0.5,\n",
    "        text=element_text(family='sans', size=5)\n",
    "    )\n",
    "]"
   ]
  },
  {
   "cell_type": "code",
   "execution_count": 17,
   "id": "6b90157f-5456-4392-ace6-e017dc65bb36",
   "metadata": {},
   "outputs": [],
   "source": [
    "%%bash\n",
    "out=\"results/plots/barplots/arrayed/\"\n",
    "rm -rf \"$out\"\n",
    "mkdir -p \"$out\"\n",
    "\n",
    "out=\"results/tables/figures/barplots/arrayed/\"\n",
    "rm -rf \"$out\"\n",
    "mkdir -p \"$out\""
   ]
  },
  {
   "cell_type": "markdown",
   "id": "d75eceb7-74ad-4c16-847a-dabcba524c6b",
   "metadata": {},
   "source": [
    "### 1x"
   ]
  },
  {
   "cell_type": "code",
   "execution_count": 18,
   "id": "f3af51ab-6787-4782-85db-2454769433cc",
   "metadata": {},
   "outputs": [
    {
     "name": "stdout",
     "output_type": "stream",
     "text": [
      "['1.A1', '1.B1', '1.C1', '1.A2', '1.B2', '1.C2', '1.A3', '1.B3', '1.C3', '1.A4', '1.B4', '1.C4', '1.A5', '1.B5', '1.C5', '1.A6', '1.B6', '1.C6', '1.A7', '1.B7', '1.C7', '1.A8', '1.B8', '1.C8', '1.A9', '1.B9', '1.C9', '1.A10', '1.B10', '1.C10', '1.A11', '1.B11', '1.C11', '1.A12', '1.B12', '1.C12']\n",
      "results/plots/barplots/arrayed_1x.svg\n"
     ]
    }
   ],
   "source": [
    "import warnings\n",
    "with warnings.catch_warnings():\n",
    "    warnings.simplefilter(\"ignore\")\n",
    "    \n",
    "    plot_paths, data_paths = plot_expt_bar(\n",
    "        ex,'027j','Alpaca', \n",
    "        predicates=f\"(selection in {selections_1x})\",\n",
    "        layers=[scale_x_continuous(expand=(0,0))] + layers, \n",
    "        # show=True, \n",
    "        show=False, \n",
    "        plot_path=\"results/plots/barplots/arrayed\",\n",
    "        data_path=\"results/tables/figures/barplots/arrayed\",\n",
    "        title_pattern=\"{sample}: {background_CS} {genotype_CS} vs.\\n{background_S} {genotype_S} ({antigen})\",\n",
    "        file_pattern=\"{sample}_{antigen}\",\n",
    "        sort=sort_row_first,\n",
    "    )\n",
    "\n",
    "arrayplot(plot_paths, 'results/plots/barplots/arrayed_1x.svg', nrow=1000)\n",
    "compile_data_frames(data_paths, 'results/tables/figures/barplots/arrayed_1x.csv')"
   ]
  },
  {
   "cell_type": "markdown",
   "id": "6dca798d-87b2-41cf-aa2c-b35ca6c13334",
   "metadata": {},
   "source": [
    "### 1/100x"
   ]
  },
  {
   "cell_type": "code",
   "execution_count": 19,
   "id": "3a61271c-f72c-42b3-8e29-d97fb5819029",
   "metadata": {},
   "outputs": [
    {
     "name": "stdout",
     "output_type": "stream",
     "text": [
      "['1.E1', '1.F1', '1.G1', '1.E2', '1.F2', '1.G2', '1.E3', '1.F3', '1.G3', '1.E4', '1.F4', '1.G4', '1.E5', '1.F5', '1.G5', '1.E6', '1.F6', '1.G6', '1.E7', '1.F7', '1.G7', '1.E8', '1.F8', '1.G8', '1.E9', '1.F9', '1.G9', '1.E10', '1.F10', '1.G10', '1.E11', '1.F11', '1.G11', '1.E12', '1.F12', '1.G12']\n",
      "results/plots/barplots/arrayed_1_100x.svg\n"
     ]
    }
   ],
   "source": [
    "import warnings\n",
    "with warnings.catch_warnings():\n",
    "    warnings.simplefilter(\"ignore\")\n",
    "    \n",
    "    plot_paths, data_paths = plot_expt_bar(\n",
    "        ex,'027j','Alpaca', \n",
    "        predicates=f\"(selection in {selections_1_100x})\",\n",
    "        # for unclear reasons, plotnine does not handle scale_x_discrete well here, even though\n",
    "        # the rounds are discrete; and if you let it choose tick breaks on a continuous scale, \n",
    "        # it will choose [7, 7.5, 8], which doesn't look right. So set the breaks manually\n",
    "        layers=[scale_x_continuous(breaks=[7,8], expand=(0,0))] + layers,  \n",
    "        show=False, \n",
    "        last_round=8,\n",
    "        plot_path=\"results/plots/barplots/arrayed\",\n",
    "        data_path=\"results/tables/figures/barplots/arrayed\",\n",
    "        title_pattern=\"{sample}: {background_CS} {genotype_CS} vs.\\n{background_S} {genotype_S} ({antigen})\",\n",
    "        file_pattern=\"{sample}_{antigen}\",\n",
    "        sort=sort_row_first,\n",
    "    )\n",
    "\n",
    "arrayplot(plot_paths, 'results/plots/barplots/arrayed_1_100x.svg', nrow=1000)\n",
    "compile_data_frames(data_paths, 'results/tables/figures/barplots/arrayed_1_100x.csv')"
   ]
  },
  {
   "cell_type": "markdown",
   "id": "c2c3b568-1f21-4a4b-b155-357335539a2f",
   "metadata": {},
   "source": [
    "## Diversity of high-throughput cell-based pannings using alpaca library (`fig-suppl-arrayed-rank-abundance-extended`)"
   ]
  },
  {
   "cell_type": "code",
   "execution_count": 20,
   "id": "c1a61ce9-e8f2-4503-bd9c-a668559e8d62",
   "metadata": {},
   "outputs": [],
   "source": [
    "def whittaker(ex, expt, library, space='cdr3', predicates='', **kwargs):\n",
    "    query = f\"expt == '{expt}' & phage_library == '{library}' & replicate == 1 & io == 'i' & kind == '+'\"\n",
    "    if predicates != '':\n",
    "        query += f\" & ({predicates})\"\n",
    "    ft = ex.query(query, space=space)\n",
    "\n",
    "    return nvs.rank_abundance_plot(ft, **kwargs)"
   ]
  },
  {
   "cell_type": "code",
   "execution_count": 21,
   "id": "70ef2147-978b-4671-88a2-bcf630940c56",
   "metadata": {},
   "outputs": [],
   "source": [
    "def plot_expt_whittaker(\n",
    "    ex, expt, library, predicates='', space='cdr3', layers = [],\n",
    "    path='.',\n",
    "    plot_path=\"results/plots/barplots/arrayed\", \n",
    "    data_path=\"results/tables/figures/barplots/arrayed\",\n",
    "    title_pattern=\"{background_S} {antigen} - {method}\",\n",
    "    file_pattern=\"{background_S}_{antigen}_{method}\",\n",
    "    show=True, sort=True, **kwargs):\n",
    "    \n",
    "    query = f\"expt == '{expt}' & phage_library == '{library}' & replicate == 1 & io == 'i' & kind == '+'\"\n",
    "    if predicates != '':\n",
    "        query += f\" & ({predicates})\"\n",
    "    ft = ex.query(query, space=space)\n",
    "    expt_samples = ft.obs['sample'].unique()\n",
    "    if sort:\n",
    "        if callable(sort):\n",
    "            expt_samples = sorted(expt_samples, key=sort)\n",
    "        else:\n",
    "            from natsort import natsorted\n",
    "            expt_samples = natsorted(expt_samples)\n",
    "        \n",
    "    print(expt_samples)\n",
    "    \n",
    "    plot_paths = []\n",
    "    data_paths = []\n",
    "    for sample in expt_samples:\n",
    "        first_row = ex.obs.query(f\"({query}) & (sample == '{sample}')\").iloc[0,:]\n",
    "            \n",
    "        _plot = (whittaker(\n",
    "            ex, expt, library, space=space, predicates = f\"(sample == '{sample}')\", \n",
    "            n_sample=dict(n=100, replace=True),\n",
    "            line=dict(size=1),\n",
    "            color=\"r\", group=\"r\") \n",
    "                 + ggtitle(shorten(title_pattern.format(**first_row))) \n",
    "        + layers)\n",
    "\n",
    "\n",
    "        import os\n",
    "        fn = file_pattern.format(**first_row).replace(os.path.sep,\"_\")\n",
    "        \n",
    "        plotpath = plot_path + os.path.sep + fn + '.svg'\n",
    "        _plot.save(plotpath)\n",
    "        \n",
    "        datapath = data_path + os.path.sep + fn + '.csv'\n",
    "        df = extract_encoded_data_plotnine(_plot)\n",
    "        df.to_csv(datapath, index=False)\n",
    "        \n",
    "        plot_paths.append(plotpath)\n",
    "        data_paths.append(datapath)\n",
    "        \n",
    "        if show:\n",
    "            display(_plot)\n",
    "        \n",
    "    return plot_paths, data_paths"
   ]
  },
  {
   "cell_type": "code",
   "execution_count": 22,
   "id": "d8ef11db-5661-4554-9688-4cc439713305",
   "metadata": {},
   "outputs": [],
   "source": [
    "from matplotlib.ticker import EngFormatter\n",
    "fmt = EngFormatter(sep=\"\")\n",
    "\n",
    "layers = [\n",
    "    scale_color_cmap(\"viridis\"),\n",
    "    scale_x_continuous(name=\"feature rank\", labels=lambda x: list(map(fmt.format_eng, x))),\n",
    "    # facet_wrap(\"desc_ag_short\", nrow=1),\n",
    "    theme_bw(), \n",
    "    theme(\n",
    "        figure_size=(1.5,1.5),\n",
    "        legend_position='none',\n",
    "        legend_key_height=4,\n",
    "        legend_key_width=4,\n",
    "        text=element_text(family='sans', size=5)\n",
    "    ),\n",
    "    guides(color=guide_legend(title=\"round\"))\n",
    "]"
   ]
  },
  {
   "cell_type": "code",
   "execution_count": 23,
   "id": "afe29d44-ec3c-47be-9076-fc01b982096d",
   "metadata": {},
   "outputs": [],
   "source": [
    "%%bash\n",
    "out=\"results/plots/rank_abundance/arrayed\"\n",
    "rm -rf \"$out\"\n",
    "mkdir -p \"$out\"\n",
    "\n",
    "out=\"results/tables/figures/rank_abundance/arrayed\"\n",
    "rm -rf \"$out\"\n",
    "mkdir -p \"$out\""
   ]
  },
  {
   "cell_type": "markdown",
   "id": "b84a5667-3c02-4239-bc80-ad892310aca8",
   "metadata": {},
   "source": [
    "### 1x"
   ]
  },
  {
   "cell_type": "code",
   "execution_count": 24,
   "id": "66c9ab53-ba1d-4b66-b42a-d58829f2ff75",
   "metadata": {},
   "outputs": [
    {
     "name": "stdout",
     "output_type": "stream",
     "text": [
      "['1.A1', '1.B1', '1.C1', '1.A2', '1.B2', '1.C2', '1.A3', '1.B3', '1.C3', '1.A4', '1.B4', '1.C4', '1.A5', '1.B5', '1.C5', '1.A6', '1.B6', '1.C6', '1.A7', '1.B7', '1.C7', '1.A8', '1.B8', '1.C8', '1.A9', '1.B9', '1.C9', '1.A10', '1.B10', '1.C10', '1.A11', '1.B11', '1.C11', '1.A12', '1.B12', '1.C12']\n",
      "results/plots/rank_abundance/arrayed_1x.svg\n"
     ]
    }
   ],
   "source": [
    "import warnings\n",
    "with warnings.catch_warnings():\n",
    "    warnings.simplefilter(\"ignore\")\n",
    "    \n",
    "    plot_paths, data_paths = plot_expt_whittaker(\n",
    "        ex,'027j','Alpaca', \n",
    "        predicates=f\"(selection in {selections_1x})\",\n",
    "        sort=sort_row_first,\n",
    "        layers=layers, \n",
    "        show=False, \n",
    "        plot_path=\"results/plots/rank_abundance/arrayed\",\n",
    "        data_path=\"results/tables/figures/rank_abundance/arrayed\",\n",
    "        title_pattern=\"{sample}: {background_CS} {genotype_CS} vs.\\n{background_S} {genotype_S} ({antigen})\",\n",
    "        file_pattern=\"{sample}_{antigen}\",\n",
    "    )\n",
    "\n",
    "arrayplot(plot_paths, 'results/plots/rank_abundance/arrayed_1x.svg', nrow=1000)\n",
    "compile_data_frames(data_paths, 'results/tables/figures/rank_abundance/arrayed_1x.csv')"
   ]
  },
  {
   "cell_type": "markdown",
   "id": "0b3b0c3f-632b-4063-a71d-988d30f5e0a8",
   "metadata": {},
   "source": [
    "### 1/100x"
   ]
  },
  {
   "cell_type": "code",
   "execution_count": 25,
   "id": "6b230afa-ef6b-4d82-9826-285ee6d745d5",
   "metadata": {},
   "outputs": [
    {
     "name": "stdout",
     "output_type": "stream",
     "text": [
      "['1.E1', '1.F1', '1.G1', '1.E2', '1.F2', '1.G2', '1.E3', '1.F3', '1.G3', '1.E4', '1.F4', '1.G4', '1.E5', '1.F5', '1.G5', '1.E6', '1.F6', '1.G6', '1.E7', '1.F7', '1.G7', '1.E8', '1.F8', '1.G8', '1.E9', '1.F9', '1.G9', '1.E10', '1.F10', '1.G10', '1.E11', '1.F11', '1.G11', '1.E12', '1.F12', '1.G12']\n",
      "results/plots/rank_abundance/arrayed_1_100x.svg\n"
     ]
    }
   ],
   "source": [
    "import warnings\n",
    "with warnings.catch_warnings():\n",
    "    warnings.simplefilter(\"ignore\")\n",
    "    \n",
    "    plot_paths, data_paths = plot_expt_whittaker(\n",
    "        ex,'027j','Alpaca', \n",
    "        predicates=f\"(selection in {selections_1_100x})\",\n",
    "        sort=sort_row_first,\n",
    "        layers=layers, \n",
    "        show=False, \n",
    "        plot_path=\"results/plots/rank_abundance/arrayed\",\n",
    "        data_path=\"results/tables/figures/rank_abundance/arrayed\",\n",
    "        title_pattern=\"{sample}: {background_CS} {genotype_CS} vs.\\n{background_S} {genotype_S} ({antigen})\",\n",
    "        file_pattern=\"{sample}_{antigen}\",\n",
    "    )\n",
    "\n",
    "arrayplot(plot_paths, 'results/plots/rank_abundance/arrayed_1_100x.svg', nrow=1000)\n",
    "compile_data_frames(data_paths, 'results/tables/figures/rank_abundance/arrayed_1_100x.csv')"
   ]
  },
  {
   "cell_type": "code",
   "execution_count": null,
   "id": "11f2189a-cf96-46a2-91bf-ae799753556e",
   "metadata": {},
   "outputs": [],
   "source": []
  }
 ],
 "metadata": {
  "kernelspec": {
   "display_name": "Python [conda env:nbseq_full_dev_v1]",
   "language": "python",
   "name": "conda-env-nbseq_full_dev_v1-py"
  },
  "language_info": {
   "codemirror_mode": {
    "name": "ipython",
    "version": 3
   },
   "file_extension": ".py",
   "mimetype": "text/x-python",
   "name": "python",
   "nbconvert_exporter": "python",
   "pygments_lexer": "ipython3",
   "version": "3.10.14"
  }
 },
 "nbformat": 4,
 "nbformat_minor": 5
}
