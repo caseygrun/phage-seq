{
 "cells": [
  {
   "cell_type": "markdown",
   "id": "9874daed-8dcf-4ae7-8d39-5d069fb80bd0",
   "metadata": {},
   "source": [
    "# `panning-minimal` demonstration"
   ]
  },
  {
   "cell_type": "markdown",
   "id": "980b0a7e-d52e-4816-a26e-8b653a0d089c",
   "metadata": {},
   "source": [
    "This notebook serves as a small example of use of the `nbseq` library to interactively explore data processed using the Snakemake workflows in the [`phageseq-paper` repository](https://github.com/caseygrun/phage-seq). It contains some simple plots to explore the processed `panning-minimal` dataset, which is a small subset of the `panning-extended` dataset. \n",
    "\n",
    "Before exploring this notebook, make sure you have [run the `panning-minimal` Snakemake workflow as documented in the README](../../../README.md). In particular, you should have two directories `../../results` and `../../intermediate`, populated with the results of this workflow.\n",
    "\n",
    "Note that conclusions may differ from those in the main manuscript as only a small subset of the samples/reads are included."
   ]
  },
  {
   "cell_type": "code",
   "execution_count": null,
   "id": "81f2b871-fbe1-459e-9d14-ca6b8aed5a88",
   "metadata": {},
   "outputs": [],
   "source": [
    "import nbseq\n",
    "import os\n",
    "\n",
    "# change working directory to `./panning-minimal` for simplicity of access to feature tables, etc\n",
    "# make sure we don't do this twice, or we'll end up in the wrong place and be very confused\n",
    "if 'dir_changed' not in globals():\n",
    "    os.chdir('../../')\n",
    "    dir_changed = True"
   ]
  },
  {
   "cell_type": "markdown",
   "id": "4958e9ae-6743-4b4b-8754-0d12f8ef7a14",
   "metadata": {},
   "source": [
    "## Load data into `nbseq.Experiment`"
   ]
  },
  {
   "cell_type": "markdown",
   "id": "a135c099-b956-40c4-890f-9911180206ee",
   "metadata": {},
   "source": [
    "Load sample metadata, feature tables, and feature sequences. Load only CDR3 feature table to save time.\n",
    "\n",
    "Important: if you receive `FileNotFoundError`s in this cell, you need to stop and ensure you have finished [running the `panning-minimal` workflow as documented in the README](../../../README.md). You may see `- Warning: sqlite database 'path_to_sqlite_db' does not exist`; this is fine, the demonstration here does not rely on the SQLite database."
   ]
  },
  {
   "cell_type": "code",
   "execution_count": null,
   "id": "9b6e2aa2-fbcb-4178-99ac-36abbadf9aed",
   "metadata": {},
   "outputs": [],
   "source": [
    "ex = nbseq.Experiment.from_files(\n",
    "    # skip loading the amino acid feature table\n",
    "    ft_aa=None,\n",
    "    metadata='config/metadata_full.csv'\n",
    ") "
   ]
  },
  {
   "cell_type": "code",
   "execution_count": null,
   "id": "244b2633-df65-40d3-b8bb-9b94deaa01fa",
   "metadata": {},
   "outputs": [],
   "source": [
    "ex"
   ]
  },
  {
   "cell_type": "code",
   "execution_count": null,
   "id": "a70407cc-38ca-42cc-8df8-0f34f8978c00",
   "metadata": {},
   "outputs": [],
   "source": [
    "import nbseq.viz.utils\n",
    "for space in ex.fts:\n",
    "    # add less verbose descriptions to a sample metadata column called 'desc_short'\n",
    "    nbseq.viz.utils.shorten_descriptions(ex.fts[space].obs)\n",
    "\n",
    "# force rebuild the selection metadata\n",
    "# del ex._selection_metadata\n",
    "\n",
    "ex.obs.loc[~ex.obs['desc_short'].duplicated(), ['expt','desc_short']].reset_index(drop=True)"
   ]
  },
  {
   "cell_type": "markdown",
   "id": "f88a5387-0e64-4bc4-acc9-0db100d2cd13",
   "metadata": {},
   "source": [
    "This small dataset contains three biological replicates each of two selections: PAK _∆flhA_ vs. PAK _∆fleN_ (flagellar hook-basal body, e.g. FlgEHKL) and PA0397 ∆efflux vs PA0397 _+mexAB+oprM_ (e.g. the MexAB/OprM multidrug efflux system). Additionally, we sequenced the un-panned input library three times (sub-experiment `027j.lib`):"
   ]
  },
  {
   "cell_type": "code",
   "execution_count": null,
   "id": "7a36dc09-9bc8-4496-896e-4063aa3e3b2a",
   "metadata": {},
   "outputs": [],
   "source": [
    "ex.summarize_expts()"
   ]
  },
  {
   "cell_type": "code",
   "execution_count": null,
   "id": "5006bf17-323e-4500-8ad5-587f443c6f7f",
   "metadata": {},
   "outputs": [],
   "source": [
    "ex.summarize_selections()"
   ]
  },
  {
   "cell_type": "markdown",
   "id": "752468ff-6145-4ffe-86d0-11ac55aecb8f",
   "metadata": {},
   "source": [
    "Plot an overview of the antigen matrix:"
   ]
  },
  {
   "cell_type": "code",
   "execution_count": null,
   "id": "62ab0d25-9e79-4b1a-af63-cda539994275",
   "metadata": {},
   "outputs": [],
   "source": [
    "ex.viz.plot_selection_ag_matrix(description_col='desc_short', figsize=(4,4))"
   ]
  },
  {
   "cell_type": "markdown",
   "id": "e0db6418-e3df-4c85-9709-8cc1f207e3e1",
   "metadata": {},
   "source": [
    "## View barplots of un-panned library"
   ]
  },
  {
   "cell_type": "markdown",
   "id": "f4c10f19-f426-4091-bb07-603975f13de8",
   "metadata": {},
   "source": [
    "We can get an idea of the diversity expected due to technical replicates by looking at repeated sequencing of the un-panned input library.\n",
    "\n",
    "`ex.viz` is the experiment visualizer and provides access to several methods for visualizing the results of the experiment. `top_feature_barplot` shows a barplot of the `n` most abundant features in some feature space (`cdr3`, by default). The `query` argument uses `nbseq.ft.query` to choose a subset of samples, in this case, those from the un-panned library.\n",
    "\n",
    "Note the plot is interactive; click on a bar or a feature label from the legend to focus on that feature; double-click to clear the selection."
   ]
  },
  {
   "cell_type": "code",
   "execution_count": null,
   "id": "439ea267-9217-4a94-b100-b6e496cd6468",
   "metadata": {},
   "outputs": [],
   "source": [
    "chart = ex.viz.top_feature_barplot(\"expt == '027j.lib'\", x='name_full:N', select_from_round=None, n=200)\n",
    "chart"
   ]
  },
  {
   "cell_type": "markdown",
   "id": "2429d70b-85a1-4bb2-a4d3-07e966787acb",
   "metadata": {},
   "source": [
    "## Examine feature abundance within selections"
   ]
  },
  {
   "cell_type": "markdown",
   "id": "561ba483-c9ca-446a-a14c-f9075758e7cb",
   "metadata": {},
   "source": [
    "Examine the abundance of various features within the two sets of selections:"
   ]
  },
  {
   "cell_type": "code",
   "execution_count": null,
   "id": "cf8e2aa8-2e2b-4fd8-8829-ff0b54b5bb14",
   "metadata": {},
   "outputs": [],
   "source": [
    "def plot_selections(condition):\n",
    "    return ex.viz.top_feature_barplot(f\"expt == '027j' & desc_short == '{condition}'\", select_from_round=None, n=100).facet(column='selection').properties(title=condition)"
   ]
  },
  {
   "cell_type": "markdown",
   "id": "e4c984a7-c2b7-4e07-bc50-3ce9ef3d61b0",
   "metadata": {},
   "source": [
    "### OprM"
   ]
  },
  {
   "cell_type": "code",
   "execution_count": null,
   "id": "ed103845-37e6-40aa-89c6-4ad27efad21a",
   "metadata": {},
   "outputs": [],
   "source": [
    "plot_selections('PA0397 ∆efflux / PA0397 +mexAB+oprM')"
   ]
  },
  {
   "cell_type": "markdown",
   "id": "dabbb810-ea16-4154-8942-0bb6fda6f945",
   "metadata": {},
   "source": [
    "It looks like round 8 for selections 1.A2 and 1.C2 were taken over by CDR3s `2c7c51` and `ad6f8f`. Let's look at a trace plot omitting those samples.\n",
    "\n",
    "The traceplot will, by default, show the `n` CDR3s which have the highest geometric mean enrichment across the chosen selections"
   ]
  },
  {
   "cell_type": "code",
   "execution_count": null,
   "id": "f3837e65-ab1d-44ff-acec-a1af3b01146d",
   "metadata": {},
   "outputs": [],
   "source": [
    "condition = 'PA0397 ∆efflux / PA0397 +mexAB+oprM'\n",
    "bad_samples = ['027j.1.A2.1.R8i', '027j.1.C2.1.R8i']\n",
    "ex.viz.top_feature_traceplot(query = f\"expt == '027j' & desc_short == '{condition}' & ~(name_full in {bad_samples})\")"
   ]
  },
  {
   "cell_type": "markdown",
   "id": "aa714673-4e1e-4432-a410-399d50655243",
   "metadata": {},
   "source": [
    "We can interactively explore various features and their degree of enrichment in these samples compared to the other three, using the `nbseq.viz.dash` package. First, import and setup the [Panel](https://panel.holoviz.org) package."
   ]
  },
  {
   "cell_type": "code",
   "execution_count": null,
   "id": "e5d907d7-47f4-4519-954c-7c552d344458",
   "metadata": {},
   "outputs": [],
   "source": [
    "import nbseq.viz.dash\n",
    "import panel as pn\n",
    "pn.extension('tabulator','vega')\n",
    "\n",
    "# by default, the dashboard shows a bunch warnings; hide these for simplicity\n",
    "import warnings\n",
    "from anndata import ImplicitModificationWarning\n",
    "warnings.filterwarnings('ignore', category=RuntimeWarning)\n",
    "warnings.filterwarnings('ignore', category=ImplicitModificationWarning)"
   ]
  },
  {
   "cell_type": "code",
   "execution_count": null,
   "id": "96095181-bdd7-43f5-9253-65a8b9885881",
   "metadata": {
    "scrolled": true
   },
   "outputs": [],
   "source": [
    "nbseq.viz.dash.selection_group_dashboard(\n",
    "    ex, \n",
    "    # global_query allows us to subset the data explored; we will again discard the last-round samples from selections 1.A2 and 1.C2;\n",
    "    # we will also limit our consideration to samples in sub-experiment '027j'; the un-sequenced input library samples were used to\n",
    "    # calculate the enrichment probabilities, but we don't want to specifically observe their abundances here.\n",
    "    global_query=f\"expt == '027j' & ~(name_full in {bad_samples})\", \n",
    "    neg_query=\"~({phenotype} == 1)\", starting_phenotype='OprM')"
   ]
  },
  {
   "cell_type": "markdown",
   "id": "e3135cb5-f637-4511-bb8d-f15433ecf939",
   "metadata": {},
   "source": [
    "Let's focus on what happens with `d3c7bb99b10ff17f8d01a7cda90da94d` in all samples:"
   ]
  },
  {
   "cell_type": "code",
   "execution_count": null,
   "id": "2febc3ae-9037-4033-ba4d-78bb6193d7d2",
   "metadata": {},
   "outputs": [],
   "source": [
    "ex.viz.plot_selections_for_feature('d3c7bb99b10ff17f8d01a7cda90da94d', phenotype='OprM', global_query=f\"~(name_full in {bad_samples})\")"
   ]
  },
  {
   "cell_type": "code",
   "execution_count": null,
   "id": "93456d94-9218-468e-9a34-42e8fde76632",
   "metadata": {},
   "outputs": [],
   "source": [
    "import nbseq.viz.utils\n",
    "nbseq.viz.utils.setup_accordion()"
   ]
  },
  {
   "cell_type": "markdown",
   "id": "d67f744c-1661-497d-926f-1e1046a4914f",
   "metadata": {},
   "source": [
    "We can see that this CDR3 is much more abundant in round 7--8 of these OprM+ samples:"
   ]
  },
  {
   "cell_type": "code",
   "execution_count": null,
   "id": "c75058a2-cb66-4c59-854f-83d988806f28",
   "metadata": {},
   "outputs": [],
   "source": [
    "ex.viz.summarize_top_samples(['d3c7bb99b10ff17f8d01a7cda90da94d'])"
   ]
  },
  {
   "cell_type": "markdown",
   "id": "1839dba2-b2c8-4763-8f8b-7e5fd17bcb19",
   "metadata": {},
   "source": [
    "### Flagellar hook-basal body ('FlgEHKL')\n",
    "\n",
    "We can perform a similar analysis for the hook-basal body selections:"
   ]
  },
  {
   "cell_type": "code",
   "execution_count": null,
   "id": "c0ddee4a-079b-40fe-bae6-287804565228",
   "metadata": {},
   "outputs": [],
   "source": [
    "plot_selections('PAK ∆flhA / PAK ∆fleN')"
   ]
  },
  {
   "cell_type": "code",
   "execution_count": null,
   "id": "f7563eef-22a6-4a7e-9ab6-5d5f382fdc8a",
   "metadata": {},
   "outputs": [],
   "source": [
    "condition = 'PAK ∆flhA / PAK ∆fleN'\n",
    "bad_samples = []\n",
    "ex.viz.top_feature_traceplot(query = f\"expt == '027j' & desc_short == '{condition}' & ~(name_full in {bad_samples})\")"
   ]
  },
  {
   "cell_type": "markdown",
   "id": "e03238b6-1931-4069-8263-f8bf334aa2d9",
   "metadata": {},
   "source": [
    "Let's investigate how the CDR3 `97861c` behaves across the entire dataset:"
   ]
  },
  {
   "cell_type": "code",
   "execution_count": null,
   "id": "e206687d-aeed-43e4-a618-3beab04e0221",
   "metadata": {},
   "outputs": [],
   "source": [
    "ex.viz.plot_selections_for_feature(ex.find_cdr3('97861c')[0], phenotype='FlgEHKL')"
   ]
  },
  {
   "cell_type": "code",
   "execution_count": null,
   "id": "0eb01e70-8ab7-4bd1-a004-b94fbdf543dd",
   "metadata": {},
   "outputs": [],
   "source": []
  }
 ],
 "metadata": {
  "kernelspec": {
   "display_name": "Python [conda env:nbseq_full_dev]",
   "language": "python",
   "name": "conda-env-nbseq_full_dev-py"
  },
  "language_info": {
   "codemirror_mode": {
    "name": "ipython",
    "version": 3
   },
   "file_extension": ".py",
   "mimetype": "text/x-python",
   "name": "python",
   "nbconvert_exporter": "python",
   "pygments_lexer": "ipython3",
   "version": "3.10.14"
  }
 },
 "nbformat": 4,
 "nbformat_minor": 5
}
